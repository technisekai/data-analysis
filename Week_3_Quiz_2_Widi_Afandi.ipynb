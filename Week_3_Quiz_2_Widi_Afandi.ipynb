{
  "nbformat": 4,
  "nbformat_minor": 0,
  "metadata": {
    "colab": {
      "name": "Week 3_Quiz 2_Widi Afandi.ipynb",
      "provenance": [],
      "authorship_tag": "ABX9TyPX+Cmzu0m3+jY1vz/SL6nh",
      "include_colab_link": true
    },
    "kernelspec": {
      "name": "python3",
      "display_name": "Python 3"
    },
    "language_info": {
      "name": "python"
    }
  },
  "cells": [
    {
      "cell_type": "markdown",
      "metadata": {
        "id": "view-in-github",
        "colab_type": "text"
      },
      "source": [
        "<a href=\"https://colab.research.google.com/github/technisekai/orbit-future-academy-km/blob/main/Week_3_Quiz_2_Widi_Afandi.ipynb\" target=\"_parent\"><img src=\"https://colab.research.google.com/assets/colab-badge.svg\" alt=\"Open In Colab\"/></a>"
      ]
    },
    {
      "cell_type": "markdown",
      "source": [
        "# **Week 3 - Quiz 2**\n",
        "\n",
        "Nama: Widi Afandi\n",
        "\n",
        "Institusi: Institut Teknologi Telkom Purwokerto"
      ],
      "metadata": {
        "id": "zcjC5Xy9esvj"
      }
    },
    {
      "cell_type": "markdown",
      "source": [
        "## **Preparing Dataset**\n",
        "\n",
        "Import all datasets and merge them into one"
      ],
      "metadata": {
        "id": "6Dinj9m1e82A"
      }
    },
    {
      "cell_type": "code",
      "execution_count": 19,
      "metadata": {
        "id": "AFwHO53ld_hS"
      },
      "outputs": [],
      "source": [
        "# impor library\n",
        "import pandas as pd\n",
        "import matplotlib.pyplot as plt\n",
        "import seaborn as sns"
      ]
    },
    {
      "cell_type": "code",
      "source": [
        "# dataset customers\n",
        "customers = pd.read_csv('Customer.csv')\n",
        "# show dataset\n",
        "customers.head()"
      ],
      "metadata": {
        "colab": {
          "base_uri": "https://localhost:8080/",
          "height": 206
        },
        "id": "paRS3vX3fZxT",
        "outputId": "571fb24b-87fe-419d-bb40-b3c84e92803d"
      },
      "execution_count": 2,
      "outputs": [
        {
          "output_type": "execute_result",
          "data": {
            "text/html": [
              "\n",
              "  <div id=\"df-71ac0c4c-de43-4688-b563-ba04f6e6f005\">\n",
              "    <div class=\"colab-df-container\">\n",
              "      <div>\n",
              "<style scoped>\n",
              "    .dataframe tbody tr th:only-of-type {\n",
              "        vertical-align: middle;\n",
              "    }\n",
              "\n",
              "    .dataframe tbody tr th {\n",
              "        vertical-align: top;\n",
              "    }\n",
              "\n",
              "    .dataframe thead th {\n",
              "        text-align: right;\n",
              "    }\n",
              "</style>\n",
              "<table border=\"1\" class=\"dataframe\">\n",
              "  <thead>\n",
              "    <tr style=\"text-align: right;\">\n",
              "      <th></th>\n",
              "      <th>customer_Id</th>\n",
              "      <th>DOB</th>\n",
              "      <th>Gender</th>\n",
              "      <th>city_code</th>\n",
              "    </tr>\n",
              "  </thead>\n",
              "  <tbody>\n",
              "    <tr>\n",
              "      <th>0</th>\n",
              "      <td>268408</td>\n",
              "      <td>02-01-1970</td>\n",
              "      <td>M</td>\n",
              "      <td>4.0</td>\n",
              "    </tr>\n",
              "    <tr>\n",
              "      <th>1</th>\n",
              "      <td>269696</td>\n",
              "      <td>07-01-1970</td>\n",
              "      <td>F</td>\n",
              "      <td>8.0</td>\n",
              "    </tr>\n",
              "    <tr>\n",
              "      <th>2</th>\n",
              "      <td>268159</td>\n",
              "      <td>08-01-1970</td>\n",
              "      <td>F</td>\n",
              "      <td>8.0</td>\n",
              "    </tr>\n",
              "    <tr>\n",
              "      <th>3</th>\n",
              "      <td>270181</td>\n",
              "      <td>10-01-1970</td>\n",
              "      <td>F</td>\n",
              "      <td>2.0</td>\n",
              "    </tr>\n",
              "    <tr>\n",
              "      <th>4</th>\n",
              "      <td>268073</td>\n",
              "      <td>11-01-1970</td>\n",
              "      <td>M</td>\n",
              "      <td>1.0</td>\n",
              "    </tr>\n",
              "  </tbody>\n",
              "</table>\n",
              "</div>\n",
              "      <button class=\"colab-df-convert\" onclick=\"convertToInteractive('df-71ac0c4c-de43-4688-b563-ba04f6e6f005')\"\n",
              "              title=\"Convert this dataframe to an interactive table.\"\n",
              "              style=\"display:none;\">\n",
              "        \n",
              "  <svg xmlns=\"http://www.w3.org/2000/svg\" height=\"24px\"viewBox=\"0 0 24 24\"\n",
              "       width=\"24px\">\n",
              "    <path d=\"M0 0h24v24H0V0z\" fill=\"none\"/>\n",
              "    <path d=\"M18.56 5.44l.94 2.06.94-2.06 2.06-.94-2.06-.94-.94-2.06-.94 2.06-2.06.94zm-11 1L8.5 8.5l.94-2.06 2.06-.94-2.06-.94L8.5 2.5l-.94 2.06-2.06.94zm10 10l.94 2.06.94-2.06 2.06-.94-2.06-.94-.94-2.06-.94 2.06-2.06.94z\"/><path d=\"M17.41 7.96l-1.37-1.37c-.4-.4-.92-.59-1.43-.59-.52 0-1.04.2-1.43.59L10.3 9.45l-7.72 7.72c-.78.78-.78 2.05 0 2.83L4 21.41c.39.39.9.59 1.41.59.51 0 1.02-.2 1.41-.59l7.78-7.78 2.81-2.81c.8-.78.8-2.07 0-2.86zM5.41 20L4 18.59l7.72-7.72 1.47 1.35L5.41 20z\"/>\n",
              "  </svg>\n",
              "      </button>\n",
              "      \n",
              "  <style>\n",
              "    .colab-df-container {\n",
              "      display:flex;\n",
              "      flex-wrap:wrap;\n",
              "      gap: 12px;\n",
              "    }\n",
              "\n",
              "    .colab-df-convert {\n",
              "      background-color: #E8F0FE;\n",
              "      border: none;\n",
              "      border-radius: 50%;\n",
              "      cursor: pointer;\n",
              "      display: none;\n",
              "      fill: #1967D2;\n",
              "      height: 32px;\n",
              "      padding: 0 0 0 0;\n",
              "      width: 32px;\n",
              "    }\n",
              "\n",
              "    .colab-df-convert:hover {\n",
              "      background-color: #E2EBFA;\n",
              "      box-shadow: 0px 1px 2px rgba(60, 64, 67, 0.3), 0px 1px 3px 1px rgba(60, 64, 67, 0.15);\n",
              "      fill: #174EA6;\n",
              "    }\n",
              "\n",
              "    [theme=dark] .colab-df-convert {\n",
              "      background-color: #3B4455;\n",
              "      fill: #D2E3FC;\n",
              "    }\n",
              "\n",
              "    [theme=dark] .colab-df-convert:hover {\n",
              "      background-color: #434B5C;\n",
              "      box-shadow: 0px 1px 3px 1px rgba(0, 0, 0, 0.15);\n",
              "      filter: drop-shadow(0px 1px 2px rgba(0, 0, 0, 0.3));\n",
              "      fill: #FFFFFF;\n",
              "    }\n",
              "  </style>\n",
              "\n",
              "      <script>\n",
              "        const buttonEl =\n",
              "          document.querySelector('#df-71ac0c4c-de43-4688-b563-ba04f6e6f005 button.colab-df-convert');\n",
              "        buttonEl.style.display =\n",
              "          google.colab.kernel.accessAllowed ? 'block' : 'none';\n",
              "\n",
              "        async function convertToInteractive(key) {\n",
              "          const element = document.querySelector('#df-71ac0c4c-de43-4688-b563-ba04f6e6f005');\n",
              "          const dataTable =\n",
              "            await google.colab.kernel.invokeFunction('convertToInteractive',\n",
              "                                                     [key], {});\n",
              "          if (!dataTable) return;\n",
              "\n",
              "          const docLinkHtml = 'Like what you see? Visit the ' +\n",
              "            '<a target=\"_blank\" href=https://colab.research.google.com/notebooks/data_table.ipynb>data table notebook</a>'\n",
              "            + ' to learn more about interactive tables.';\n",
              "          element.innerHTML = '';\n",
              "          dataTable['output_type'] = 'display_data';\n",
              "          await google.colab.output.renderOutput(dataTable, element);\n",
              "          const docLink = document.createElement('div');\n",
              "          docLink.innerHTML = docLinkHtml;\n",
              "          element.appendChild(docLink);\n",
              "        }\n",
              "      </script>\n",
              "    </div>\n",
              "  </div>\n",
              "  "
            ],
            "text/plain": [
              "   customer_Id         DOB Gender  city_code\n",
              "0       268408  02-01-1970      M        4.0\n",
              "1       269696  07-01-1970      F        8.0\n",
              "2       268159  08-01-1970      F        8.0\n",
              "3       270181  10-01-1970      F        2.0\n",
              "4       268073  11-01-1970      M        1.0"
            ]
          },
          "metadata": {},
          "execution_count": 2
        }
      ]
    },
    {
      "cell_type": "code",
      "source": [
        "# dataset transactions\n",
        "transactions = pd.read_csv('Transactions.csv')\n",
        "# show dataset\n",
        "transactions.head()"
      ],
      "metadata": {
        "colab": {
          "base_uri": "https://localhost:8080/",
          "height": 206
        },
        "id": "msjLB_UCfsaY",
        "outputId": "9fa79d9d-20f5-4c09-c740-bd7946947425"
      },
      "execution_count": 3,
      "outputs": [
        {
          "output_type": "execute_result",
          "data": {
            "text/html": [
              "\n",
              "  <div id=\"df-922fee39-a987-4b9d-bd3f-c727676a4642\">\n",
              "    <div class=\"colab-df-container\">\n",
              "      <div>\n",
              "<style scoped>\n",
              "    .dataframe tbody tr th:only-of-type {\n",
              "        vertical-align: middle;\n",
              "    }\n",
              "\n",
              "    .dataframe tbody tr th {\n",
              "        vertical-align: top;\n",
              "    }\n",
              "\n",
              "    .dataframe thead th {\n",
              "        text-align: right;\n",
              "    }\n",
              "</style>\n",
              "<table border=\"1\" class=\"dataframe\">\n",
              "  <thead>\n",
              "    <tr style=\"text-align: right;\">\n",
              "      <th></th>\n",
              "      <th>transaction_id</th>\n",
              "      <th>cust_id</th>\n",
              "      <th>tran_date</th>\n",
              "      <th>prod_subcat_code</th>\n",
              "      <th>prod_cat_code</th>\n",
              "      <th>Qty</th>\n",
              "      <th>Rate</th>\n",
              "      <th>Tax</th>\n",
              "      <th>total_amt</th>\n",
              "      <th>Store_type</th>\n",
              "    </tr>\n",
              "  </thead>\n",
              "  <tbody>\n",
              "    <tr>\n",
              "      <th>0</th>\n",
              "      <td>80712190438</td>\n",
              "      <td>270351</td>\n",
              "      <td>28-02-2014</td>\n",
              "      <td>1</td>\n",
              "      <td>1</td>\n",
              "      <td>-5</td>\n",
              "      <td>-772</td>\n",
              "      <td>405.300</td>\n",
              "      <td>-4265.300</td>\n",
              "      <td>e-Shop</td>\n",
              "    </tr>\n",
              "    <tr>\n",
              "      <th>1</th>\n",
              "      <td>29258453508</td>\n",
              "      <td>270384</td>\n",
              "      <td>27-02-2014</td>\n",
              "      <td>5</td>\n",
              "      <td>3</td>\n",
              "      <td>-5</td>\n",
              "      <td>-1497</td>\n",
              "      <td>785.925</td>\n",
              "      <td>-8270.925</td>\n",
              "      <td>e-Shop</td>\n",
              "    </tr>\n",
              "    <tr>\n",
              "      <th>2</th>\n",
              "      <td>51750724947</td>\n",
              "      <td>273420</td>\n",
              "      <td>24-02-2014</td>\n",
              "      <td>6</td>\n",
              "      <td>5</td>\n",
              "      <td>-2</td>\n",
              "      <td>-791</td>\n",
              "      <td>166.110</td>\n",
              "      <td>-1748.110</td>\n",
              "      <td>TeleShop</td>\n",
              "    </tr>\n",
              "    <tr>\n",
              "      <th>3</th>\n",
              "      <td>93274880719</td>\n",
              "      <td>271509</td>\n",
              "      <td>24-02-2014</td>\n",
              "      <td>11</td>\n",
              "      <td>6</td>\n",
              "      <td>-3</td>\n",
              "      <td>-1363</td>\n",
              "      <td>429.345</td>\n",
              "      <td>-4518.345</td>\n",
              "      <td>e-Shop</td>\n",
              "    </tr>\n",
              "    <tr>\n",
              "      <th>4</th>\n",
              "      <td>51750724947</td>\n",
              "      <td>273420</td>\n",
              "      <td>23-02-2014</td>\n",
              "      <td>6</td>\n",
              "      <td>5</td>\n",
              "      <td>-2</td>\n",
              "      <td>-791</td>\n",
              "      <td>166.110</td>\n",
              "      <td>-1748.110</td>\n",
              "      <td>TeleShop</td>\n",
              "    </tr>\n",
              "  </tbody>\n",
              "</table>\n",
              "</div>\n",
              "      <button class=\"colab-df-convert\" onclick=\"convertToInteractive('df-922fee39-a987-4b9d-bd3f-c727676a4642')\"\n",
              "              title=\"Convert this dataframe to an interactive table.\"\n",
              "              style=\"display:none;\">\n",
              "        \n",
              "  <svg xmlns=\"http://www.w3.org/2000/svg\" height=\"24px\"viewBox=\"0 0 24 24\"\n",
              "       width=\"24px\">\n",
              "    <path d=\"M0 0h24v24H0V0z\" fill=\"none\"/>\n",
              "    <path d=\"M18.56 5.44l.94 2.06.94-2.06 2.06-.94-2.06-.94-.94-2.06-.94 2.06-2.06.94zm-11 1L8.5 8.5l.94-2.06 2.06-.94-2.06-.94L8.5 2.5l-.94 2.06-2.06.94zm10 10l.94 2.06.94-2.06 2.06-.94-2.06-.94-.94-2.06-.94 2.06-2.06.94z\"/><path d=\"M17.41 7.96l-1.37-1.37c-.4-.4-.92-.59-1.43-.59-.52 0-1.04.2-1.43.59L10.3 9.45l-7.72 7.72c-.78.78-.78 2.05 0 2.83L4 21.41c.39.39.9.59 1.41.59.51 0 1.02-.2 1.41-.59l7.78-7.78 2.81-2.81c.8-.78.8-2.07 0-2.86zM5.41 20L4 18.59l7.72-7.72 1.47 1.35L5.41 20z\"/>\n",
              "  </svg>\n",
              "      </button>\n",
              "      \n",
              "  <style>\n",
              "    .colab-df-container {\n",
              "      display:flex;\n",
              "      flex-wrap:wrap;\n",
              "      gap: 12px;\n",
              "    }\n",
              "\n",
              "    .colab-df-convert {\n",
              "      background-color: #E8F0FE;\n",
              "      border: none;\n",
              "      border-radius: 50%;\n",
              "      cursor: pointer;\n",
              "      display: none;\n",
              "      fill: #1967D2;\n",
              "      height: 32px;\n",
              "      padding: 0 0 0 0;\n",
              "      width: 32px;\n",
              "    }\n",
              "\n",
              "    .colab-df-convert:hover {\n",
              "      background-color: #E2EBFA;\n",
              "      box-shadow: 0px 1px 2px rgba(60, 64, 67, 0.3), 0px 1px 3px 1px rgba(60, 64, 67, 0.15);\n",
              "      fill: #174EA6;\n",
              "    }\n",
              "\n",
              "    [theme=dark] .colab-df-convert {\n",
              "      background-color: #3B4455;\n",
              "      fill: #D2E3FC;\n",
              "    }\n",
              "\n",
              "    [theme=dark] .colab-df-convert:hover {\n",
              "      background-color: #434B5C;\n",
              "      box-shadow: 0px 1px 3px 1px rgba(0, 0, 0, 0.15);\n",
              "      filter: drop-shadow(0px 1px 2px rgba(0, 0, 0, 0.3));\n",
              "      fill: #FFFFFF;\n",
              "    }\n",
              "  </style>\n",
              "\n",
              "      <script>\n",
              "        const buttonEl =\n",
              "          document.querySelector('#df-922fee39-a987-4b9d-bd3f-c727676a4642 button.colab-df-convert');\n",
              "        buttonEl.style.display =\n",
              "          google.colab.kernel.accessAllowed ? 'block' : 'none';\n",
              "\n",
              "        async function convertToInteractive(key) {\n",
              "          const element = document.querySelector('#df-922fee39-a987-4b9d-bd3f-c727676a4642');\n",
              "          const dataTable =\n",
              "            await google.colab.kernel.invokeFunction('convertToInteractive',\n",
              "                                                     [key], {});\n",
              "          if (!dataTable) return;\n",
              "\n",
              "          const docLinkHtml = 'Like what you see? Visit the ' +\n",
              "            '<a target=\"_blank\" href=https://colab.research.google.com/notebooks/data_table.ipynb>data table notebook</a>'\n",
              "            + ' to learn more about interactive tables.';\n",
              "          element.innerHTML = '';\n",
              "          dataTable['output_type'] = 'display_data';\n",
              "          await google.colab.output.renderOutput(dataTable, element);\n",
              "          const docLink = document.createElement('div');\n",
              "          docLink.innerHTML = docLinkHtml;\n",
              "          element.appendChild(docLink);\n",
              "        }\n",
              "      </script>\n",
              "    </div>\n",
              "  </div>\n",
              "  "
            ],
            "text/plain": [
              "   transaction_id  cust_id   tran_date  prod_subcat_code  prod_cat_code  Qty  \\\n",
              "0     80712190438   270351  28-02-2014                 1              1   -5   \n",
              "1     29258453508   270384  27-02-2014                 5              3   -5   \n",
              "2     51750724947   273420  24-02-2014                 6              5   -2   \n",
              "3     93274880719   271509  24-02-2014                11              6   -3   \n",
              "4     51750724947   273420  23-02-2014                 6              5   -2   \n",
              "\n",
              "   Rate      Tax  total_amt Store_type  \n",
              "0  -772  405.300  -4265.300     e-Shop  \n",
              "1 -1497  785.925  -8270.925     e-Shop  \n",
              "2  -791  166.110  -1748.110   TeleShop  \n",
              "3 -1363  429.345  -4518.345     e-Shop  \n",
              "4  -791  166.110  -1748.110   TeleShop  "
            ]
          },
          "metadata": {},
          "execution_count": 3
        }
      ]
    },
    {
      "cell_type": "code",
      "source": [
        "# dataset prod_cat_info\n",
        "prod_cat_info = pd.read_csv('prod_cat_info.csv')\n",
        "# show dataset\n",
        "prod_cat_info.head()"
      ],
      "metadata": {
        "colab": {
          "base_uri": "https://localhost:8080/",
          "height": 206
        },
        "id": "Bv5iA5eXf9l8",
        "outputId": "87b33fc1-1e4c-43bb-f975-1884a18263d0"
      },
      "execution_count": 4,
      "outputs": [
        {
          "output_type": "execute_result",
          "data": {
            "text/html": [
              "\n",
              "  <div id=\"df-50a5c2ae-df4b-47ed-9678-23b47e2fc7c0\">\n",
              "    <div class=\"colab-df-container\">\n",
              "      <div>\n",
              "<style scoped>\n",
              "    .dataframe tbody tr th:only-of-type {\n",
              "        vertical-align: middle;\n",
              "    }\n",
              "\n",
              "    .dataframe tbody tr th {\n",
              "        vertical-align: top;\n",
              "    }\n",
              "\n",
              "    .dataframe thead th {\n",
              "        text-align: right;\n",
              "    }\n",
              "</style>\n",
              "<table border=\"1\" class=\"dataframe\">\n",
              "  <thead>\n",
              "    <tr style=\"text-align: right;\">\n",
              "      <th></th>\n",
              "      <th>prod_cat_code</th>\n",
              "      <th>prod_cat</th>\n",
              "      <th>prod_sub_cat_code</th>\n",
              "      <th>prod_subcat</th>\n",
              "    </tr>\n",
              "  </thead>\n",
              "  <tbody>\n",
              "    <tr>\n",
              "      <th>0</th>\n",
              "      <td>1</td>\n",
              "      <td>Clothing</td>\n",
              "      <td>4</td>\n",
              "      <td>Mens</td>\n",
              "    </tr>\n",
              "    <tr>\n",
              "      <th>1</th>\n",
              "      <td>1</td>\n",
              "      <td>Clothing</td>\n",
              "      <td>1</td>\n",
              "      <td>Women</td>\n",
              "    </tr>\n",
              "    <tr>\n",
              "      <th>2</th>\n",
              "      <td>1</td>\n",
              "      <td>Clothing</td>\n",
              "      <td>3</td>\n",
              "      <td>Kids</td>\n",
              "    </tr>\n",
              "    <tr>\n",
              "      <th>3</th>\n",
              "      <td>2</td>\n",
              "      <td>Footwear</td>\n",
              "      <td>1</td>\n",
              "      <td>Mens</td>\n",
              "    </tr>\n",
              "    <tr>\n",
              "      <th>4</th>\n",
              "      <td>2</td>\n",
              "      <td>Footwear</td>\n",
              "      <td>3</td>\n",
              "      <td>Women</td>\n",
              "    </tr>\n",
              "  </tbody>\n",
              "</table>\n",
              "</div>\n",
              "      <button class=\"colab-df-convert\" onclick=\"convertToInteractive('df-50a5c2ae-df4b-47ed-9678-23b47e2fc7c0')\"\n",
              "              title=\"Convert this dataframe to an interactive table.\"\n",
              "              style=\"display:none;\">\n",
              "        \n",
              "  <svg xmlns=\"http://www.w3.org/2000/svg\" height=\"24px\"viewBox=\"0 0 24 24\"\n",
              "       width=\"24px\">\n",
              "    <path d=\"M0 0h24v24H0V0z\" fill=\"none\"/>\n",
              "    <path d=\"M18.56 5.44l.94 2.06.94-2.06 2.06-.94-2.06-.94-.94-2.06-.94 2.06-2.06.94zm-11 1L8.5 8.5l.94-2.06 2.06-.94-2.06-.94L8.5 2.5l-.94 2.06-2.06.94zm10 10l.94 2.06.94-2.06 2.06-.94-2.06-.94-.94-2.06-.94 2.06-2.06.94z\"/><path d=\"M17.41 7.96l-1.37-1.37c-.4-.4-.92-.59-1.43-.59-.52 0-1.04.2-1.43.59L10.3 9.45l-7.72 7.72c-.78.78-.78 2.05 0 2.83L4 21.41c.39.39.9.59 1.41.59.51 0 1.02-.2 1.41-.59l7.78-7.78 2.81-2.81c.8-.78.8-2.07 0-2.86zM5.41 20L4 18.59l7.72-7.72 1.47 1.35L5.41 20z\"/>\n",
              "  </svg>\n",
              "      </button>\n",
              "      \n",
              "  <style>\n",
              "    .colab-df-container {\n",
              "      display:flex;\n",
              "      flex-wrap:wrap;\n",
              "      gap: 12px;\n",
              "    }\n",
              "\n",
              "    .colab-df-convert {\n",
              "      background-color: #E8F0FE;\n",
              "      border: none;\n",
              "      border-radius: 50%;\n",
              "      cursor: pointer;\n",
              "      display: none;\n",
              "      fill: #1967D2;\n",
              "      height: 32px;\n",
              "      padding: 0 0 0 0;\n",
              "      width: 32px;\n",
              "    }\n",
              "\n",
              "    .colab-df-convert:hover {\n",
              "      background-color: #E2EBFA;\n",
              "      box-shadow: 0px 1px 2px rgba(60, 64, 67, 0.3), 0px 1px 3px 1px rgba(60, 64, 67, 0.15);\n",
              "      fill: #174EA6;\n",
              "    }\n",
              "\n",
              "    [theme=dark] .colab-df-convert {\n",
              "      background-color: #3B4455;\n",
              "      fill: #D2E3FC;\n",
              "    }\n",
              "\n",
              "    [theme=dark] .colab-df-convert:hover {\n",
              "      background-color: #434B5C;\n",
              "      box-shadow: 0px 1px 3px 1px rgba(0, 0, 0, 0.15);\n",
              "      filter: drop-shadow(0px 1px 2px rgba(0, 0, 0, 0.3));\n",
              "      fill: #FFFFFF;\n",
              "    }\n",
              "  </style>\n",
              "\n",
              "      <script>\n",
              "        const buttonEl =\n",
              "          document.querySelector('#df-50a5c2ae-df4b-47ed-9678-23b47e2fc7c0 button.colab-df-convert');\n",
              "        buttonEl.style.display =\n",
              "          google.colab.kernel.accessAllowed ? 'block' : 'none';\n",
              "\n",
              "        async function convertToInteractive(key) {\n",
              "          const element = document.querySelector('#df-50a5c2ae-df4b-47ed-9678-23b47e2fc7c0');\n",
              "          const dataTable =\n",
              "            await google.colab.kernel.invokeFunction('convertToInteractive',\n",
              "                                                     [key], {});\n",
              "          if (!dataTable) return;\n",
              "\n",
              "          const docLinkHtml = 'Like what you see? Visit the ' +\n",
              "            '<a target=\"_blank\" href=https://colab.research.google.com/notebooks/data_table.ipynb>data table notebook</a>'\n",
              "            + ' to learn more about interactive tables.';\n",
              "          element.innerHTML = '';\n",
              "          dataTable['output_type'] = 'display_data';\n",
              "          await google.colab.output.renderOutput(dataTable, element);\n",
              "          const docLink = document.createElement('div');\n",
              "          docLink.innerHTML = docLinkHtml;\n",
              "          element.appendChild(docLink);\n",
              "        }\n",
              "      </script>\n",
              "    </div>\n",
              "  </div>\n",
              "  "
            ],
            "text/plain": [
              "   prod_cat_code  prod_cat  prod_sub_cat_code prod_subcat\n",
              "0              1  Clothing                  4        Mens\n",
              "1              1  Clothing                  1       Women\n",
              "2              1  Clothing                  3        Kids\n",
              "3              2  Footwear                  1        Mens\n",
              "4              2  Footwear                  3       Women"
            ]
          },
          "metadata": {},
          "execution_count": 4
        }
      ]
    },
    {
      "cell_type": "code",
      "source": [
        "# merge transactions and customers datasets\n",
        "transaction_customer = pd.merge(\n",
        "    transactions,\n",
        "    customers,\n",
        "    left_on = 'cust_id',\n",
        "    right_on = 'customer_Id'\n",
        "    )\n",
        "# merge transactions, customers, and prod_cat_info datasets\n",
        "transaction_customer_prod = pd.merge(\n",
        "    transaction_customer,\n",
        "    prod_cat_info,\n",
        "    left_on = ['prod_subcat_code', 'prod_cat_code'],\n",
        "    right_on= ['prod_cat_code', 'prod_cat_code']\n",
        "    )\n",
        "# show merged dataset\n",
        "transaction_customer_prod.head()"
      ],
      "metadata": {
        "colab": {
          "base_uri": "https://localhost:8080/",
          "height": 443
        },
        "id": "q_nBI7Q6gnef",
        "outputId": "311f6d59-8eb1-4e17-9702-4011de490fe9"
      },
      "execution_count": 5,
      "outputs": [
        {
          "output_type": "execute_result",
          "data": {
            "text/html": [
              "\n",
              "  <div id=\"df-1cc69e62-56c7-434e-a548-5ceed2794868\">\n",
              "    <div class=\"colab-df-container\">\n",
              "      <div>\n",
              "<style scoped>\n",
              "    .dataframe tbody tr th:only-of-type {\n",
              "        vertical-align: middle;\n",
              "    }\n",
              "\n",
              "    .dataframe tbody tr th {\n",
              "        vertical-align: top;\n",
              "    }\n",
              "\n",
              "    .dataframe thead th {\n",
              "        text-align: right;\n",
              "    }\n",
              "</style>\n",
              "<table border=\"1\" class=\"dataframe\">\n",
              "  <thead>\n",
              "    <tr style=\"text-align: right;\">\n",
              "      <th></th>\n",
              "      <th>transaction_id</th>\n",
              "      <th>cust_id</th>\n",
              "      <th>tran_date</th>\n",
              "      <th>prod_subcat_code</th>\n",
              "      <th>prod_cat_code</th>\n",
              "      <th>Qty</th>\n",
              "      <th>Rate</th>\n",
              "      <th>Tax</th>\n",
              "      <th>total_amt</th>\n",
              "      <th>Store_type</th>\n",
              "      <th>customer_Id</th>\n",
              "      <th>DOB</th>\n",
              "      <th>Gender</th>\n",
              "      <th>city_code</th>\n",
              "      <th>prod_cat</th>\n",
              "      <th>prod_sub_cat_code</th>\n",
              "      <th>prod_subcat</th>\n",
              "    </tr>\n",
              "  </thead>\n",
              "  <tbody>\n",
              "    <tr>\n",
              "      <th>0</th>\n",
              "      <td>80712190438</td>\n",
              "      <td>270351</td>\n",
              "      <td>28-02-2014</td>\n",
              "      <td>1</td>\n",
              "      <td>1</td>\n",
              "      <td>-5</td>\n",
              "      <td>-772</td>\n",
              "      <td>405.3</td>\n",
              "      <td>-4265.3</td>\n",
              "      <td>e-Shop</td>\n",
              "      <td>270351</td>\n",
              "      <td>26-09-1981</td>\n",
              "      <td>M</td>\n",
              "      <td>5.0</td>\n",
              "      <td>Clothing</td>\n",
              "      <td>4</td>\n",
              "      <td>Mens</td>\n",
              "    </tr>\n",
              "    <tr>\n",
              "      <th>1</th>\n",
              "      <td>80712190438</td>\n",
              "      <td>270351</td>\n",
              "      <td>28-02-2014</td>\n",
              "      <td>1</td>\n",
              "      <td>1</td>\n",
              "      <td>-5</td>\n",
              "      <td>-772</td>\n",
              "      <td>405.3</td>\n",
              "      <td>-4265.3</td>\n",
              "      <td>e-Shop</td>\n",
              "      <td>270351</td>\n",
              "      <td>26-09-1981</td>\n",
              "      <td>M</td>\n",
              "      <td>5.0</td>\n",
              "      <td>Clothing</td>\n",
              "      <td>1</td>\n",
              "      <td>Women</td>\n",
              "    </tr>\n",
              "    <tr>\n",
              "      <th>2</th>\n",
              "      <td>80712190438</td>\n",
              "      <td>270351</td>\n",
              "      <td>28-02-2014</td>\n",
              "      <td>1</td>\n",
              "      <td>1</td>\n",
              "      <td>-5</td>\n",
              "      <td>-772</td>\n",
              "      <td>405.3</td>\n",
              "      <td>-4265.3</td>\n",
              "      <td>e-Shop</td>\n",
              "      <td>270351</td>\n",
              "      <td>26-09-1981</td>\n",
              "      <td>M</td>\n",
              "      <td>5.0</td>\n",
              "      <td>Clothing</td>\n",
              "      <td>3</td>\n",
              "      <td>Kids</td>\n",
              "    </tr>\n",
              "    <tr>\n",
              "      <th>3</th>\n",
              "      <td>80712190438</td>\n",
              "      <td>270351</td>\n",
              "      <td>20-02-2014</td>\n",
              "      <td>1</td>\n",
              "      <td>1</td>\n",
              "      <td>5</td>\n",
              "      <td>772</td>\n",
              "      <td>405.3</td>\n",
              "      <td>4265.3</td>\n",
              "      <td>e-Shop</td>\n",
              "      <td>270351</td>\n",
              "      <td>26-09-1981</td>\n",
              "      <td>M</td>\n",
              "      <td>5.0</td>\n",
              "      <td>Clothing</td>\n",
              "      <td>4</td>\n",
              "      <td>Mens</td>\n",
              "    </tr>\n",
              "    <tr>\n",
              "      <th>4</th>\n",
              "      <td>80712190438</td>\n",
              "      <td>270351</td>\n",
              "      <td>20-02-2014</td>\n",
              "      <td>1</td>\n",
              "      <td>1</td>\n",
              "      <td>5</td>\n",
              "      <td>772</td>\n",
              "      <td>405.3</td>\n",
              "      <td>4265.3</td>\n",
              "      <td>e-Shop</td>\n",
              "      <td>270351</td>\n",
              "      <td>26-09-1981</td>\n",
              "      <td>M</td>\n",
              "      <td>5.0</td>\n",
              "      <td>Clothing</td>\n",
              "      <td>1</td>\n",
              "      <td>Women</td>\n",
              "    </tr>\n",
              "  </tbody>\n",
              "</table>\n",
              "</div>\n",
              "      <button class=\"colab-df-convert\" onclick=\"convertToInteractive('df-1cc69e62-56c7-434e-a548-5ceed2794868')\"\n",
              "              title=\"Convert this dataframe to an interactive table.\"\n",
              "              style=\"display:none;\">\n",
              "        \n",
              "  <svg xmlns=\"http://www.w3.org/2000/svg\" height=\"24px\"viewBox=\"0 0 24 24\"\n",
              "       width=\"24px\">\n",
              "    <path d=\"M0 0h24v24H0V0z\" fill=\"none\"/>\n",
              "    <path d=\"M18.56 5.44l.94 2.06.94-2.06 2.06-.94-2.06-.94-.94-2.06-.94 2.06-2.06.94zm-11 1L8.5 8.5l.94-2.06 2.06-.94-2.06-.94L8.5 2.5l-.94 2.06-2.06.94zm10 10l.94 2.06.94-2.06 2.06-.94-2.06-.94-.94-2.06-.94 2.06-2.06.94z\"/><path d=\"M17.41 7.96l-1.37-1.37c-.4-.4-.92-.59-1.43-.59-.52 0-1.04.2-1.43.59L10.3 9.45l-7.72 7.72c-.78.78-.78 2.05 0 2.83L4 21.41c.39.39.9.59 1.41.59.51 0 1.02-.2 1.41-.59l7.78-7.78 2.81-2.81c.8-.78.8-2.07 0-2.86zM5.41 20L4 18.59l7.72-7.72 1.47 1.35L5.41 20z\"/>\n",
              "  </svg>\n",
              "      </button>\n",
              "      \n",
              "  <style>\n",
              "    .colab-df-container {\n",
              "      display:flex;\n",
              "      flex-wrap:wrap;\n",
              "      gap: 12px;\n",
              "    }\n",
              "\n",
              "    .colab-df-convert {\n",
              "      background-color: #E8F0FE;\n",
              "      border: none;\n",
              "      border-radius: 50%;\n",
              "      cursor: pointer;\n",
              "      display: none;\n",
              "      fill: #1967D2;\n",
              "      height: 32px;\n",
              "      padding: 0 0 0 0;\n",
              "      width: 32px;\n",
              "    }\n",
              "\n",
              "    .colab-df-convert:hover {\n",
              "      background-color: #E2EBFA;\n",
              "      box-shadow: 0px 1px 2px rgba(60, 64, 67, 0.3), 0px 1px 3px 1px rgba(60, 64, 67, 0.15);\n",
              "      fill: #174EA6;\n",
              "    }\n",
              "\n",
              "    [theme=dark] .colab-df-convert {\n",
              "      background-color: #3B4455;\n",
              "      fill: #D2E3FC;\n",
              "    }\n",
              "\n",
              "    [theme=dark] .colab-df-convert:hover {\n",
              "      background-color: #434B5C;\n",
              "      box-shadow: 0px 1px 3px 1px rgba(0, 0, 0, 0.15);\n",
              "      filter: drop-shadow(0px 1px 2px rgba(0, 0, 0, 0.3));\n",
              "      fill: #FFFFFF;\n",
              "    }\n",
              "  </style>\n",
              "\n",
              "      <script>\n",
              "        const buttonEl =\n",
              "          document.querySelector('#df-1cc69e62-56c7-434e-a548-5ceed2794868 button.colab-df-convert');\n",
              "        buttonEl.style.display =\n",
              "          google.colab.kernel.accessAllowed ? 'block' : 'none';\n",
              "\n",
              "        async function convertToInteractive(key) {\n",
              "          const element = document.querySelector('#df-1cc69e62-56c7-434e-a548-5ceed2794868');\n",
              "          const dataTable =\n",
              "            await google.colab.kernel.invokeFunction('convertToInteractive',\n",
              "                                                     [key], {});\n",
              "          if (!dataTable) return;\n",
              "\n",
              "          const docLinkHtml = 'Like what you see? Visit the ' +\n",
              "            '<a target=\"_blank\" href=https://colab.research.google.com/notebooks/data_table.ipynb>data table notebook</a>'\n",
              "            + ' to learn more about interactive tables.';\n",
              "          element.innerHTML = '';\n",
              "          dataTable['output_type'] = 'display_data';\n",
              "          await google.colab.output.renderOutput(dataTable, element);\n",
              "          const docLink = document.createElement('div');\n",
              "          docLink.innerHTML = docLinkHtml;\n",
              "          element.appendChild(docLink);\n",
              "        }\n",
              "      </script>\n",
              "    </div>\n",
              "  </div>\n",
              "  "
            ],
            "text/plain": [
              "   transaction_id  cust_id   tran_date  prod_subcat_code  prod_cat_code  Qty  \\\n",
              "0     80712190438   270351  28-02-2014                 1              1   -5   \n",
              "1     80712190438   270351  28-02-2014                 1              1   -5   \n",
              "2     80712190438   270351  28-02-2014                 1              1   -5   \n",
              "3     80712190438   270351  20-02-2014                 1              1    5   \n",
              "4     80712190438   270351  20-02-2014                 1              1    5   \n",
              "\n",
              "   Rate    Tax  total_amt Store_type  customer_Id         DOB Gender  \\\n",
              "0  -772  405.3    -4265.3     e-Shop       270351  26-09-1981      M   \n",
              "1  -772  405.3    -4265.3     e-Shop       270351  26-09-1981      M   \n",
              "2  -772  405.3    -4265.3     e-Shop       270351  26-09-1981      M   \n",
              "3   772  405.3     4265.3     e-Shop       270351  26-09-1981      M   \n",
              "4   772  405.3     4265.3     e-Shop       270351  26-09-1981      M   \n",
              "\n",
              "   city_code  prod_cat  prod_sub_cat_code prod_subcat  \n",
              "0        5.0  Clothing                  4        Mens  \n",
              "1        5.0  Clothing                  1       Women  \n",
              "2        5.0  Clothing                  3        Kids  \n",
              "3        5.0  Clothing                  4        Mens  \n",
              "4        5.0  Clothing                  1       Women  "
            ]
          },
          "metadata": {},
          "execution_count": 5
        }
      ]
    },
    {
      "cell_type": "markdown",
      "source": [
        "## 1. Berapakah jumlah data yang tersedia\n",
        "\n",
        "**Jawab:**\n",
        "\n"
      ],
      "metadata": {
        "id": "yZ6bO9-dh1Je"
      }
    },
    {
      "cell_type": "code",
      "source": [
        "# count data with len\n",
        "sum_data = len(transaction_customer_prod)\n",
        "# show result\n",
        "print(\"Jumlah data yang tersedia adalah\", sum_data)\n"
      ],
      "metadata": {
        "colab": {
          "base_uri": "https://localhost:8080/"
        },
        "id": "YKJ-s_yvhtc4",
        "outputId": "84a90950-d0f5-44f5-afe1-e3e56ccd6cba"
      },
      "execution_count": 6,
      "outputs": [
        {
          "output_type": "stream",
          "name": "stdout",
          "text": [
            "Jumlah data yang tersedia adalah 5005\n"
          ]
        }
      ]
    },
    {
      "cell_type": "markdown",
      "source": [
        "## 2. Deskripsikan statistika data sederhana (mean, max, min,..) menggunakan fungsi pandas\n",
        "**Jawab:**"
      ],
      "metadata": {
        "id": "IXDK2rVLlBFN"
      }
    },
    {
      "cell_type": "code",
      "source": [
        "transaction_customer_prod.describe()"
      ],
      "metadata": {
        "colab": {
          "base_uri": "https://localhost:8080/",
          "height": 300
        },
        "id": "sJwVI-24lI3b",
        "outputId": "3bebbc6c-da62-4260-b257-b9327646f662"
      },
      "execution_count": 7,
      "outputs": [
        {
          "output_type": "execute_result",
          "data": {
            "text/html": [
              "\n",
              "  <div id=\"df-f07067b4-ce00-4b0d-9c30-295fa02dc003\">\n",
              "    <div class=\"colab-df-container\">\n",
              "      <div>\n",
              "<style scoped>\n",
              "    .dataframe tbody tr th:only-of-type {\n",
              "        vertical-align: middle;\n",
              "    }\n",
              "\n",
              "    .dataframe tbody tr th {\n",
              "        vertical-align: top;\n",
              "    }\n",
              "\n",
              "    .dataframe thead th {\n",
              "        text-align: right;\n",
              "    }\n",
              "</style>\n",
              "<table border=\"1\" class=\"dataframe\">\n",
              "  <thead>\n",
              "    <tr style=\"text-align: right;\">\n",
              "      <th></th>\n",
              "      <th>transaction_id</th>\n",
              "      <th>cust_id</th>\n",
              "      <th>prod_subcat_code</th>\n",
              "      <th>prod_cat_code</th>\n",
              "      <th>Qty</th>\n",
              "      <th>Rate</th>\n",
              "      <th>Tax</th>\n",
              "      <th>total_amt</th>\n",
              "      <th>customer_Id</th>\n",
              "      <th>city_code</th>\n",
              "      <th>prod_sub_cat_code</th>\n",
              "    </tr>\n",
              "  </thead>\n",
              "  <tbody>\n",
              "    <tr>\n",
              "      <th>count</th>\n",
              "      <td>5.005000e+03</td>\n",
              "      <td>5005.000000</td>\n",
              "      <td>5005.000000</td>\n",
              "      <td>5005.000000</td>\n",
              "      <td>5005.000000</td>\n",
              "      <td>5005.000000</td>\n",
              "      <td>5005.000000</td>\n",
              "      <td>5005.000000</td>\n",
              "      <td>5005.000000</td>\n",
              "      <td>5005.000000</td>\n",
              "      <td>5005.000000</td>\n",
              "    </tr>\n",
              "    <tr>\n",
              "      <th>mean</th>\n",
              "      <td>5.064611e+10</td>\n",
              "      <td>271019.448152</td>\n",
              "      <td>2.192807</td>\n",
              "      <td>2.192807</td>\n",
              "      <td>2.372627</td>\n",
              "      <td>613.441359</td>\n",
              "      <td>251.936517</td>\n",
              "      <td>2047.221688</td>\n",
              "      <td>271019.448152</td>\n",
              "      <td>5.609590</td>\n",
              "      <td>2.600400</td>\n",
              "    </tr>\n",
              "    <tr>\n",
              "      <th>std</th>\n",
              "      <td>2.894192e+10</td>\n",
              "      <td>2433.668141</td>\n",
              "      <td>1.468354</td>\n",
              "      <td>1.468354</td>\n",
              "      <td>2.386766</td>\n",
              "      <td>636.237310</td>\n",
              "      <td>190.735382</td>\n",
              "      <td>2620.708991</td>\n",
              "      <td>2433.668141</td>\n",
              "      <td>2.860224</td>\n",
              "      <td>1.355983</td>\n",
              "    </tr>\n",
              "    <tr>\n",
              "      <th>min</th>\n",
              "      <td>1.086136e+07</td>\n",
              "      <td>266794.000000</td>\n",
              "      <td>1.000000</td>\n",
              "      <td>1.000000</td>\n",
              "      <td>-5.000000</td>\n",
              "      <td>-1488.000000</td>\n",
              "      <td>7.455000</td>\n",
              "      <td>-8154.900000</td>\n",
              "      <td>266794.000000</td>\n",
              "      <td>1.000000</td>\n",
              "      <td>1.000000</td>\n",
              "    </tr>\n",
              "    <tr>\n",
              "      <th>25%</th>\n",
              "      <td>2.625969e+10</td>\n",
              "      <td>268964.000000</td>\n",
              "      <td>1.000000</td>\n",
              "      <td>1.000000</td>\n",
              "      <td>1.000000</td>\n",
              "      <td>293.000000</td>\n",
              "      <td>95.130000</td>\n",
              "      <td>703.885000</td>\n",
              "      <td>268964.000000</td>\n",
              "      <td>3.000000</td>\n",
              "      <td>1.000000</td>\n",
              "    </tr>\n",
              "    <tr>\n",
              "      <th>50%</th>\n",
              "      <td>5.008910e+10</td>\n",
              "      <td>270992.000000</td>\n",
              "      <td>1.000000</td>\n",
              "      <td>1.000000</td>\n",
              "      <td>3.000000</td>\n",
              "      <td>669.000000</td>\n",
              "      <td>202.020000</td>\n",
              "      <td>1712.750000</td>\n",
              "      <td>270992.000000</td>\n",
              "      <td>6.000000</td>\n",
              "      <td>3.000000</td>\n",
              "    </tr>\n",
              "    <tr>\n",
              "      <th>75%</th>\n",
              "      <td>7.614785e+10</td>\n",
              "      <td>273170.000000</td>\n",
              "      <td>4.000000</td>\n",
              "      <td>4.000000</td>\n",
              "      <td>4.000000</td>\n",
              "      <td>1102.000000</td>\n",
              "      <td>367.605000</td>\n",
              "      <td>3547.050000</td>\n",
              "      <td>273170.000000</td>\n",
              "      <td>8.000000</td>\n",
              "      <td>4.000000</td>\n",
              "    </tr>\n",
              "    <tr>\n",
              "      <th>max</th>\n",
              "      <td>9.998675e+10</td>\n",
              "      <td>275261.000000</td>\n",
              "      <td>4.000000</td>\n",
              "      <td>4.000000</td>\n",
              "      <td>5.000000</td>\n",
              "      <td>1499.000000</td>\n",
              "      <td>786.975000</td>\n",
              "      <td>8281.975000</td>\n",
              "      <td>275261.000000</td>\n",
              "      <td>10.000000</td>\n",
              "      <td>4.000000</td>\n",
              "    </tr>\n",
              "  </tbody>\n",
              "</table>\n",
              "</div>\n",
              "      <button class=\"colab-df-convert\" onclick=\"convertToInteractive('df-f07067b4-ce00-4b0d-9c30-295fa02dc003')\"\n",
              "              title=\"Convert this dataframe to an interactive table.\"\n",
              "              style=\"display:none;\">\n",
              "        \n",
              "  <svg xmlns=\"http://www.w3.org/2000/svg\" height=\"24px\"viewBox=\"0 0 24 24\"\n",
              "       width=\"24px\">\n",
              "    <path d=\"M0 0h24v24H0V0z\" fill=\"none\"/>\n",
              "    <path d=\"M18.56 5.44l.94 2.06.94-2.06 2.06-.94-2.06-.94-.94-2.06-.94 2.06-2.06.94zm-11 1L8.5 8.5l.94-2.06 2.06-.94-2.06-.94L8.5 2.5l-.94 2.06-2.06.94zm10 10l.94 2.06.94-2.06 2.06-.94-2.06-.94-.94-2.06-.94 2.06-2.06.94z\"/><path d=\"M17.41 7.96l-1.37-1.37c-.4-.4-.92-.59-1.43-.59-.52 0-1.04.2-1.43.59L10.3 9.45l-7.72 7.72c-.78.78-.78 2.05 0 2.83L4 21.41c.39.39.9.59 1.41.59.51 0 1.02-.2 1.41-.59l7.78-7.78 2.81-2.81c.8-.78.8-2.07 0-2.86zM5.41 20L4 18.59l7.72-7.72 1.47 1.35L5.41 20z\"/>\n",
              "  </svg>\n",
              "      </button>\n",
              "      \n",
              "  <style>\n",
              "    .colab-df-container {\n",
              "      display:flex;\n",
              "      flex-wrap:wrap;\n",
              "      gap: 12px;\n",
              "    }\n",
              "\n",
              "    .colab-df-convert {\n",
              "      background-color: #E8F0FE;\n",
              "      border: none;\n",
              "      border-radius: 50%;\n",
              "      cursor: pointer;\n",
              "      display: none;\n",
              "      fill: #1967D2;\n",
              "      height: 32px;\n",
              "      padding: 0 0 0 0;\n",
              "      width: 32px;\n",
              "    }\n",
              "\n",
              "    .colab-df-convert:hover {\n",
              "      background-color: #E2EBFA;\n",
              "      box-shadow: 0px 1px 2px rgba(60, 64, 67, 0.3), 0px 1px 3px 1px rgba(60, 64, 67, 0.15);\n",
              "      fill: #174EA6;\n",
              "    }\n",
              "\n",
              "    [theme=dark] .colab-df-convert {\n",
              "      background-color: #3B4455;\n",
              "      fill: #D2E3FC;\n",
              "    }\n",
              "\n",
              "    [theme=dark] .colab-df-convert:hover {\n",
              "      background-color: #434B5C;\n",
              "      box-shadow: 0px 1px 3px 1px rgba(0, 0, 0, 0.15);\n",
              "      filter: drop-shadow(0px 1px 2px rgba(0, 0, 0, 0.3));\n",
              "      fill: #FFFFFF;\n",
              "    }\n",
              "  </style>\n",
              "\n",
              "      <script>\n",
              "        const buttonEl =\n",
              "          document.querySelector('#df-f07067b4-ce00-4b0d-9c30-295fa02dc003 button.colab-df-convert');\n",
              "        buttonEl.style.display =\n",
              "          google.colab.kernel.accessAllowed ? 'block' : 'none';\n",
              "\n",
              "        async function convertToInteractive(key) {\n",
              "          const element = document.querySelector('#df-f07067b4-ce00-4b0d-9c30-295fa02dc003');\n",
              "          const dataTable =\n",
              "            await google.colab.kernel.invokeFunction('convertToInteractive',\n",
              "                                                     [key], {});\n",
              "          if (!dataTable) return;\n",
              "\n",
              "          const docLinkHtml = 'Like what you see? Visit the ' +\n",
              "            '<a target=\"_blank\" href=https://colab.research.google.com/notebooks/data_table.ipynb>data table notebook</a>'\n",
              "            + ' to learn more about interactive tables.';\n",
              "          element.innerHTML = '';\n",
              "          dataTable['output_type'] = 'display_data';\n",
              "          await google.colab.output.renderOutput(dataTable, element);\n",
              "          const docLink = document.createElement('div');\n",
              "          docLink.innerHTML = docLinkHtml;\n",
              "          element.appendChild(docLink);\n",
              "        }\n",
              "      </script>\n",
              "    </div>\n",
              "  </div>\n",
              "  "
            ],
            "text/plain": [
              "       transaction_id        cust_id  prod_subcat_code  prod_cat_code  \\\n",
              "count    5.005000e+03    5005.000000       5005.000000    5005.000000   \n",
              "mean     5.064611e+10  271019.448152          2.192807       2.192807   \n",
              "std      2.894192e+10    2433.668141          1.468354       1.468354   \n",
              "min      1.086136e+07  266794.000000          1.000000       1.000000   \n",
              "25%      2.625969e+10  268964.000000          1.000000       1.000000   \n",
              "50%      5.008910e+10  270992.000000          1.000000       1.000000   \n",
              "75%      7.614785e+10  273170.000000          4.000000       4.000000   \n",
              "max      9.998675e+10  275261.000000          4.000000       4.000000   \n",
              "\n",
              "               Qty         Rate          Tax    total_amt    customer_Id  \\\n",
              "count  5005.000000  5005.000000  5005.000000  5005.000000    5005.000000   \n",
              "mean      2.372627   613.441359   251.936517  2047.221688  271019.448152   \n",
              "std       2.386766   636.237310   190.735382  2620.708991    2433.668141   \n",
              "min      -5.000000 -1488.000000     7.455000 -8154.900000  266794.000000   \n",
              "25%       1.000000   293.000000    95.130000   703.885000  268964.000000   \n",
              "50%       3.000000   669.000000   202.020000  1712.750000  270992.000000   \n",
              "75%       4.000000  1102.000000   367.605000  3547.050000  273170.000000   \n",
              "max       5.000000  1499.000000   786.975000  8281.975000  275261.000000   \n",
              "\n",
              "         city_code  prod_sub_cat_code  \n",
              "count  5005.000000        5005.000000  \n",
              "mean      5.609590           2.600400  \n",
              "std       2.860224           1.355983  \n",
              "min       1.000000           1.000000  \n",
              "25%       3.000000           1.000000  \n",
              "50%       6.000000           3.000000  \n",
              "75%       8.000000           4.000000  \n",
              "max      10.000000           4.000000  "
            ]
          },
          "metadata": {},
          "execution_count": 7
        }
      ]
    },
    {
      "cell_type": "markdown",
      "source": [
        "## 3. Bantulah perusahaan untuk bisa menentukan berapa banyak pelanggan berdasarkan jenis kelamin (men vs women)\n",
        "**Jawab:**"
      ],
      "metadata": {
        "id": "OU0uS4uQmKb5"
      }
    },
    {
      "cell_type": "code",
      "source": [
        "# count values in Gender field\n",
        "cust_by_gender = transaction_customer_prod['Gender'].value_counts()\n",
        "# show res\n",
        "print(cust_by_gender)\n",
        "# visualization\n",
        "cust_by_gender.plot(kind=\"bar\",\n",
        "                    title='Men vs Women',\n",
        "                    color=['#54bebe',\n",
        "                           '#c80064']\n",
        "                    )\n",
        "plt.show()"
      ],
      "metadata": {
        "colab": {
          "base_uri": "https://localhost:8080/",
          "height": 335
        },
        "id": "Y1LLrmKMmenf",
        "outputId": "d1208817-20ee-4e85-8706-db3c8493f342"
      },
      "execution_count": 8,
      "outputs": [
        {
          "output_type": "stream",
          "name": "stdout",
          "text": [
            "M    2587\n",
            "F    2412\n",
            "Name: Gender, dtype: int64\n"
          ]
        },
        {
          "output_type": "display_data",
          "data": {
            "image/png": "[encoded data removed]",
            "text/plain": [
              "<Figure size 432x288 with 1 Axes>"
            ]
          },
          "metadata": {
            "needs_background": "light"
          }
        }
      ]
    },
    {
      "cell_type": "markdown",
      "source": [
        "## 4. Bantulah perusahaan untuk bisa menentukan product kategori (prod_cat) mana saja yang paling banyak diminati laki-laki \n",
        "**Jawab:**\n",
        "\n",
        "Berdasarkan hasil visualisasi di bawah,  produk Clothing paling di minati laki-laki"
      ],
      "metadata": {
        "id": "irz9IGXamkxE"
      }
    },
    {
      "cell_type": "code",
      "source": [
        "# groupby dataset by prod_cat and gender\n",
        "by_prod_cat = transaction_customer_prod.groupby(['prod_cat', 'Gender']).count()\n",
        "# function order by prod and gender\n",
        "def by_prod_gender(gender, i, j):\n",
        "  # make new dataframe from groupby result\n",
        "  gender_prod = pd.DataFrame(\n",
        "      [[gender, 'Bags', by_prod_cat['transaction_id'][i]],\n",
        "      [gender, 'Clothing', by_prod_cat['transaction_id'][j]]],\n",
        "      columns = ['gender', 'prod', 'val'])\n",
        "  # show data\n",
        "  print(gender_prod, '\\n')\n",
        "  # visualization\n",
        "  plt.bar(gender_prod['prod'],\n",
        "          gender_prod['val'],\n",
        "          color = ['#019267', '#FFD365'],\n",
        "          width = 0.4)\n",
        "  plt.title('Produk yang Diminati '+gender)\n",
        "  plt.show()"
      ],
      "metadata": {
        "id": "429orgbqPEVI"
      },
      "execution_count": 9,
      "outputs": []
    },
    {
      "cell_type": "code",
      "source": [
        "# call function for mens\n",
        "by_prod_gender('Laki-Laki', 1, 3)"
      ],
      "metadata": {
        "colab": {
          "base_uri": "https://localhost:8080/",
          "height": 354
        },
        "id": "_kcTxqZPP0Qg",
        "outputId": "d817759a-e955-4764-9790-50d0cf17c392"
      },
      "execution_count": 10,
      "outputs": [
        {
          "output_type": "stream",
          "name": "stdout",
          "text": [
            "      gender      prod   val\n",
            "0  Laki-Laki      Bags   970\n",
            "1  Laki-Laki  Clothing  1617 \n",
            "\n"
          ]
        },
        {
          "output_type": "display_data",
          "data": {
            "image/png": "[encoded data removed]",
            "text/plain": [
              "<Figure size 432x288 with 1 Axes>"
            ]
          },
          "metadata": {
            "needs_background": "light"
          }
        }
      ]
    },
    {
      "cell_type": "markdown",
      "source": [
        "## 5. Bantulah perusahaan untuk bisa menentukan product kategori (prod_cat) mana saja yang paling banyak diminati perempuan.\n",
        "**Jawab:**\n",
        "\n",
        "Berdasarkan hasil visualisasi di bawah,  produk Clothing paling di minati perempuan"
      ],
      "metadata": {
        "id": "mYHms9yvmcqf"
      }
    },
    {
      "cell_type": "code",
      "source": [
        "# call function for woman\n",
        "by_prod_gender('Perempuan', 0, 2)"
      ],
      "metadata": {
        "colab": {
          "base_uri": "https://localhost:8080/",
          "height": 354
        },
        "id": "BA8NXy0_7GIW",
        "outputId": "b017b762-c817-4737-c462-e66d2638e12b"
      },
      "execution_count": 11,
      "outputs": [
        {
          "output_type": "stream",
          "name": "stdout",
          "text": [
            "      gender      prod   val\n",
            "0  Perempuan      Bags  1020\n",
            "1  Perempuan  Clothing  1392 \n",
            "\n"
          ]
        },
        {
          "output_type": "display_data",
          "data": {
            "image/png": "[encoded data removed]",
            "text/plain": [
              "<Figure size 432x288 with 1 Axes>"
            ]
          },
          "metadata": {
            "needs_background": "light"
          }
        }
      ]
    },
    {
      "cell_type": "markdown",
      "source": [
        "## 6. Mana y store type yang paling banyak diakses oleh pelanggan untuk mencari produk di perusahaan retail ini.\n",
        "**Jawab:**\n",
        "\n",
        "Store type yang paling banyak diakses oleh pelanggan secara umum adalah e Shop, MBR, Flagship Store, dan terakhir TeleShop"
      ],
      "metadata": {
        "id": "G2fDgza2mc78"
      }
    },
    {
      "cell_type": "code",
      "source": [
        "# groupby dataset by Store_type and prod_cat\n",
        "by_store_type = transaction_customer_prod.groupby(['Store_type', 'prod_cat']).count()\n",
        "# show data\n",
        "print(by_store_type.unstack()['transaction_id'], '\\n')\n",
        "# visualization\n",
        "by_store_type.unstack()['transaction_id'].plot(\n",
        "    kind = 'bar', # kind graph\n",
        "    color = ['#019267', '#FFD365'], # color bar\n",
        "    xlabel = 'Store Type', # label for x axis\n",
        "    title = 'Store Type yang Paling Banyak Diakses' # title graph\n",
        "    )\n",
        "plt.show()"
      ],
      "metadata": {
        "colab": {
          "base_uri": "https://localhost:8080/",
          "height": 484
        },
        "id": "GEVAe3VFQMpM",
        "outputId": "e111133c-4651-4736-8180-b8f1577c52c6"
      },
      "execution_count": 12,
      "outputs": [
        {
          "output_type": "stream",
          "name": "stdout",
          "text": [
            "prod_cat        Bags  Clothing\n",
            "Store_type                    \n",
            "Flagship store   392       600\n",
            "MBR              428       678\n",
            "TeleShop         394       546\n",
            "e-Shop           776      1191 \n",
            "\n"
          ]
        },
        {
          "output_type": "display_data",
          "data": {
            "image/png": "[encoded data removed]",
            "text/plain": [
              "<Figure size 432x288 with 1 Axes>"
            ]
          },
          "metadata": {
            "needs_background": "light"
          }
        }
      ]
    },
    {
      "cell_type": "markdown",
      "source": [
        "## 7. Mana y bulan dengan penjualan tertinggi dan terendah selama satu tahun.\n",
        "**Jawab:**\n",
        "\n",
        "Pada bulan ke 10 penjualan Clothing tertinggi dan pada bulan ke 6 penjualan Bags tertinggi"
      ],
      "metadata": {
        "id": "a0MfvthgmdJ7"
      }
    },
    {
      "cell_type": "code",
      "source": [
        "# get month from tran_date\n",
        "transaction_customer_prod['month'] = pd.DatetimeIndex(transaction_customer_prod['tran_date']).month\n",
        "# group by month and prod_cct\n",
        "by_date = transaction_customer_prod.groupby(by = [\"month\", \"prod_cat\"]).count()\n",
        "# show data\n",
        "print(by_date[\"transaction_id\"], '\\n')\n",
        "# visualization\n",
        "by_date[\"transaction_id\"].unstack().plot(color = ['#019267', '#FFD365'])\n",
        "plt.show()"
      ],
      "metadata": {
        "colab": {
          "base_uri": "https://localhost:8080/",
          "height": 777
        },
        "id": "Lj07f8flUxuv",
        "outputId": "2e717902-9d83-4731-fe2a-4dc72aa5d27c"
      },
      "execution_count": 14,
      "outputs": [
        {
          "output_type": "stream",
          "name": "stdout",
          "text": [
            "month  prod_cat\n",
            "1      Bags        164\n",
            "       Clothing    309\n",
            "2      Bags        158\n",
            "       Clothing    222\n",
            "3      Bags        180\n",
            "       Clothing    252\n",
            "4      Bags        168\n",
            "       Clothing    201\n",
            "5      Bags        164\n",
            "       Clothing    243\n",
            "6      Bags        182\n",
            "       Clothing    225\n",
            "7      Bags        176\n",
            "       Clothing    246\n",
            "8      Bags        156\n",
            "       Clothing    255\n",
            "9      Bags        170\n",
            "       Clothing    252\n",
            "10     Bags        154\n",
            "       Clothing    324\n",
            "11     Bags        168\n",
            "       Clothing    270\n",
            "12     Bags        150\n",
            "       Clothing    216\n",
            "Name: transaction_id, dtype: int64 \n",
            "\n"
          ]
        },
        {
          "output_type": "display_data",
          "data": {
            "image/png": "[encoded data removed]",
            "text/plain": [
              "<Figure size 432x288 with 1 Axes>"
            ]
          },
          "metadata": {
            "needs_background": "light"
          }
        }
      ]
    },
    {
      "cell_type": "markdown",
      "source": [
        "## 8. Penjualan per tahun\n",
        "**Jawab:**\n",
        "\n",
        "Penjualan mengalami kenaikan dari tahun 2011 - 2013 tetapi penjualan mengalami penurunan yang sangat tajam pada tahun 2014"
      ],
      "metadata": {
        "id": "93KryFHgdJ6R"
      }
    },
    {
      "cell_type": "code",
      "source": [
        "# get year from tran_date\n",
        "transaction_customer_prod['year'] = pd.DatetimeIndex(transaction_customer_prod['tran_date']).year\n",
        "# group by year and prod_cct\n",
        "by_year = transaction_customer_prod.groupby(by = [\"year\", \"prod_cat\"]).count()\n",
        "# show data\n",
        "print(by_year[\"transaction_id\"], '\\n')\n",
        "# visualization\n",
        "by_year[\"transaction_id\"].unstack().plot(color = ['#019267', '#FFD365'], kind = 'bar')\n",
        "plt.show()"
      ],
      "metadata": {
        "colab": {
          "base_uri": "https://localhost:8080/",
          "height": 497
        },
        "id": "cweqvik0dpFx",
        "outputId": "2dbad60b-8228-4143-e14b-03a1dc4ef8bd"
      },
      "execution_count": 18,
      "outputs": [
        {
          "output_type": "stream",
          "name": "stdout",
          "text": [
            "year  prod_cat\n",
            "2011  Bags         598\n",
            "      Clothing     819\n",
            "2012  Bags         672\n",
            "      Clothing     963\n",
            "2013  Bags         628\n",
            "      Clothing    1065\n",
            "2014  Bags          92\n",
            "      Clothing     168\n",
            "Name: transaction_id, dtype: int64 \n",
            "\n"
          ]
        },
        {
          "output_type": "display_data",
          "data": {
            "image/png": "[encoded data removed]",
            "text/plain": [
              "<Figure size 432x288 with 1 Axes>"
            ]
          },
          "metadata": {
            "needs_background": "light"
          }
        }
      ]
    },
    {
      "cell_type": "markdown",
      "source": [
        "## 9. Korelasi antar variabel menggunakan heatmap \n",
        "**Jawab :**\n",
        "\n",
        "Hubungan antar variabel memiliki korelasi yang sangat rendah terhadap variabel lain"
      ],
      "metadata": {
        "id": "UtMiQWNMeBdf"
      }
    },
    {
      "cell_type": "code",
      "source": [
        "plt.rcParams['figure.figsize'] = (16,8)\n",
        "\n",
        "print(transaction_customer_prod.corr())\n",
        "dataplot = sns.heatmap(transaction_customer_prod.corr(), cmap=\"YlGnBu\", annot=True)"
      ],
      "metadata": {
        "colab": {
          "base_uri": "https://localhost:8080/",
          "height": 1000
        },
        "id": "8pe4ibUKernV",
        "outputId": "4db61b03-848b-4003-d1d5-20fd8da1c06c"
      },
      "execution_count": 20,
      "outputs": [
        {
          "output_type": "stream",
          "name": "stdout",
          "text": [
            "                   transaction_id   cust_id  prod_subcat_code  prod_cat_code  \\\n",
            "transaction_id           1.000000  0.009927         -0.023458      -0.023458   \n",
            "cust_id                  0.009927  1.000000         -0.049545      -0.049545   \n",
            "prod_subcat_code        -0.023458 -0.049545          1.000000       1.000000   \n",
            "prod_cat_code           -0.023458 -0.049545          1.000000       1.000000   \n",
            "Qty                     -0.035602  0.000996         -0.006420      -0.006420   \n",
            "Rate                    -0.023790 -0.007162         -0.009290      -0.009290   \n",
            "Tax                     -0.017917  0.015770         -0.008062      -0.008062   \n",
            "total_amt               -0.032970  0.003897         -0.011539      -0.011539   \n",
            "customer_Id              0.009927  1.000000         -0.049545      -0.049545   \n",
            "city_code                0.011605 -0.004468          0.019544       0.019544   \n",
            "prod_sub_cat_code        0.001411  0.002981         -0.060159      -0.060159   \n",
            "month                    0.006414  0.037600         -0.014711      -0.014711   \n",
            "year                     0.008107 -0.020083         -0.046668      -0.046668   \n",
            "\n",
            "                        Qty      Rate       Tax  total_amt  customer_Id  \\\n",
            "transaction_id    -0.035602 -0.023790 -0.017917  -0.032970     0.009927   \n",
            "cust_id            0.000996 -0.007162  0.015770   0.003897     1.000000   \n",
            "prod_subcat_code  -0.006420 -0.009290 -0.008062  -0.011539    -0.049545   \n",
            "prod_cat_code     -0.006420 -0.009290 -0.008062  -0.011539    -0.049545   \n",
            "Qty                1.000000  0.621722  0.257642   0.802467     0.000996   \n",
            "Rate               0.621722  1.000000  0.345370   0.849875    -0.007162   \n",
            "Tax                0.257642  0.345370  1.000000   0.571506     0.015770   \n",
            "total_amt          0.802467  0.849875  0.571506   1.000000     0.003897   \n",
            "customer_Id        0.000996 -0.007162  0.015770   0.003897     1.000000   \n",
            "city_code         -0.001343 -0.016531 -0.031442  -0.012604    -0.004468   \n",
            "prod_sub_cat_code  0.000386  0.000559  0.000485   0.000694     0.002981   \n",
            "month             -0.006497 -0.045887  0.011496  -0.020707     0.037600   \n",
            "year              -0.024895  0.008245 -0.048255  -0.019762    -0.020083   \n",
            "\n",
            "                   city_code  prod_sub_cat_code     month      year  \n",
            "transaction_id      0.011605           0.001411  0.006414  0.008107  \n",
            "cust_id            -0.004468           0.002981  0.037600 -0.020083  \n",
            "prod_subcat_code    0.019544          -0.060159 -0.014711 -0.046668  \n",
            "prod_cat_code       0.019544          -0.060159 -0.014711 -0.046668  \n",
            "Qty                -0.001343           0.000386 -0.006497 -0.024895  \n",
            "Rate               -0.016531           0.000559 -0.045887  0.008245  \n",
            "Tax                -0.031442           0.000485  0.011496 -0.048255  \n",
            "total_amt          -0.012604           0.000694 -0.020707 -0.019762  \n",
            "customer_Id        -0.004468           0.002981  0.037600 -0.020083  \n",
            "city_code           1.000000          -0.001176  0.007622  0.012994  \n",
            "prod_sub_cat_code  -0.001176           1.000000  0.000885  0.002808  \n",
            "month               0.007622           0.000885  1.000000 -0.156145  \n",
            "year                0.012994           0.002808 -0.156145  1.000000  \n"
          ]
        },
        {
          "output_type": "display_data",
          "data": {
            "image/png": "[encoded data removed]",
            "text/plain": [
              "<Figure size 1152x576 with 2 Axes>"
            ]
          },
          "metadata": {
            "needs_background": "light"
          }
        }
      ]
    }
  ]
}