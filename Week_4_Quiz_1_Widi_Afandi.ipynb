{
  "nbformat": 4,
  "nbformat_minor": 0,
  "metadata": {
    "colab": {
      "name": "Week 4_Quiz 1_Widi Afandi.ipynb",
      "provenance": [],
      "toc_visible": true,
      "mount_file_id": "1sqx6bz54EtVFzgfsM8eZGqzi5xI7fNA-",
      "authorship_tag": "ABX9TyPt/6w6XkKzYtT6zOAkpDYJ",
      "include_colab_link": true
    },
    "kernelspec": {
      "name": "python3",
      "display_name": "Python 3"
    },
    "language_info": {
      "name": "python"
    }
  },
  "cells": [
    {
      "cell_type": "markdown",
      "metadata": {
        "id": "view-in-github",
        "colab_type": "text"
      },
      "source": [
        "<a href=\"https://colab.research.google.com/github/technisekai/orbit-future-academy-km/blob/main/Week_4_Quiz_1_Widi_Afandi.ipynb\" target=\"_parent\"><img src=\"https://colab.research.google.com/assets/colab-badge.svg\" alt=\"Open In Colab\"/></a>"
      ]
    },
    {
      "cell_type": "markdown",
      "source": [
        "# **1. Project Overview**"
      ],
      "metadata": {
        "id": "uwYbU8cejxzr"
      }
    },
    {
      "cell_type": "markdown",
      "source": [
        "## 1.1 Dataset Description"
      ],
      "metadata": {
        "id": "i5ETiZVclFt4"
      }
    },
    {
      "cell_type": "markdown",
      "source": [
        "This dataset contains harvest production from 1997 to 2015 based on various states and districts. In this dataset there are several columns including\n",
        "\n",
        "\n",
        "*   **State_Name**\n",
        "*   **District_Name**\n",
        "*   **Crop_Year**\n",
        "*   **Season**\n",
        "*   **Crop**\n",
        "*   **Area**\n",
        "*   **Production**\n",
        "\n"
      ],
      "metadata": {
        "id": "UWg1LxP3lT_-"
      }
    },
    {
      "cell_type": "markdown",
      "source": [
        "## 1.2 Goals\n"
      ],
      "metadata": {
        "id": "p9QIDCgsm_n4"
      }
    },
    {
      "cell_type": "markdown",
      "source": [
        "*   Get insight from dataset\n",
        "*   Visualizing the insight"
      ],
      "metadata": {
        "id": "hWZCVoXpnh3t"
      }
    },
    {
      "cell_type": "markdown",
      "source": [
        "# **2. Dataset Overview**"
      ],
      "metadata": {
        "id": "IlyZQq3P_hR-"
      }
    },
    {
      "cell_type": "code",
      "execution_count": 13,
      "metadata": {
        "id": "SNjZTlGpu188"
      },
      "outputs": [],
      "source": [
        "# load library\n",
        "import pandas as pd\n",
        "import matplotlib.pyplot as plt\n",
        "import seaborn as sns\n",
        "import numpy as np\n",
        "from scipy import stats\n",
        "\n",
        "import warnings\n",
        "warnings.filterwarnings(\"ignore\")"
      ]
    },
    {
      "cell_type": "code",
      "source": [
        "# define color for categorical\n",
        "spring_pastels = [\"#fd7f6f\", \"#7eb0d5\", \"#b2e061\", \"#bd7ebe\", \"#ffb55a\", \"#ffee65\", \"#beb9db\", \"#fdcce5\", \"#8bd3c7\"]"
      ],
      "metadata": {
        "id": "owoBcMrVEcc8"
      },
      "execution_count": 6,
      "outputs": []
    },
    {
      "cell_type": "markdown",
      "source": [
        "## 2.1 Dataset Overview"
      ],
      "metadata": {
        "id": "2Zrdabfnny1Z"
      }
    },
    {
      "cell_type": "code",
      "source": [
        "# load dataset\n",
        "df = pd.read_csv('/content/drive/MyDrive/Dataset/orbit_kampus_merdeka/apy.csv')\n",
        "# show\n",
        "df.sample(10)"
      ],
      "metadata": {
        "colab": {
          "base_uri": "https://localhost:8080/",
          "height": 363
        },
        "id": "QHSORekvwbex",
        "outputId": "4dadf0c6-1790-4230-87b7-d2a51f0a0411"
      },
      "execution_count": 7,
      "outputs": [
        {
          "output_type": "execute_result",
          "data": {
            "text/plain": [
              "          State_Name     District_Name  Crop_Year       Season  \\\n",
              "138048       Manipur           CHANDEL       2002  Whole Year    \n",
              "24378          Assam           NALBARI       1998  Kharif        \n",
              "58547        Gujarat           BHARUCH       1998  Kharif        \n",
              "96509      Karnataka            TUMKUR       2011  Kharif        \n",
              "133692   Maharashtra          PARBHANI       2002  Kharif        \n",
              "157237        Odisha          NAYAGARH       1999  Rabi          \n",
              "159526        Odisha           SONEPUR       2000  Kharif        \n",
              "140618     Meghalaya  SOUTH GARO HILLS       1999  Whole Year    \n",
              "54695   Chhattisgarh            RAIPUR       2001  Rabi          \n",
              "129279   Maharashtra            GONDIA       2012  Summer        \n",
              "\n",
              "                       Crop     Area Production  \n",
              "138048         Sweet potato    105.0        720  \n",
              "24378                 Mesta    180.0        700  \n",
              "58547             Arhar/Tur  92800.0      58600  \n",
              "96509   Other Kharif pulses   7385.0       6546  \n",
              "133692                Maize   1300.0        900  \n",
              "157237    Rapeseed &Mustard   3170.0       1340  \n",
              "159526              Sesamum    240.0       15.4  \n",
              "140618         Sweet potato    117.0        387  \n",
              "54695    Other  Rabi pulses    302.0        103  \n",
              "129279                Maize    100.0        100  "
            ],
            "text/html": [
              "\n",
              "  <div id=\"df-d37b0890-dbb7-4782-8f7d-985ca0de622b\">\n",
              "    <div class=\"colab-df-container\">\n",
              "      <div>\n",
              "<style scoped>\n",
              "    .dataframe tbody tr th:only-of-type {\n",
              "        vertical-align: middle;\n",
              "    }\n",
              "\n",
              "    .dataframe tbody tr th {\n",
              "        vertical-align: top;\n",
              "    }\n",
              "\n",
              "    .dataframe thead th {\n",
              "        text-align: right;\n",
              "    }\n",
              "</style>\n",
              "<table border=\"1\" class=\"dataframe\">\n",
              "  <thead>\n",
              "    <tr style=\"text-align: right;\">\n",
              "      <th></th>\n",
              "      <th>State_Name</th>\n",
              "      <th>District_Name</th>\n",
              "      <th>Crop_Year</th>\n",
              "      <th>Season</th>\n",
              "      <th>Crop</th>\n",
              "      <th>Area</th>\n",
              "      <th>Production</th>\n",
              "    </tr>\n",
              "  </thead>\n",
              "  <tbody>\n",
              "    <tr>\n",
              "      <th>138048</th>\n",
              "      <td>Manipur</td>\n",
              "      <td>CHANDEL</td>\n",
              "      <td>2002</td>\n",
              "      <td>Whole Year</td>\n",
              "      <td>Sweet potato</td>\n",
              "      <td>105.0</td>\n",
              "      <td>720</td>\n",
              "    </tr>\n",
              "    <tr>\n",
              "      <th>24378</th>\n",
              "      <td>Assam</td>\n",
              "      <td>NALBARI</td>\n",
              "      <td>1998</td>\n",
              "      <td>Kharif</td>\n",
              "      <td>Mesta</td>\n",
              "      <td>180.0</td>\n",
              "      <td>700</td>\n",
              "    </tr>\n",
              "    <tr>\n",
              "      <th>58547</th>\n",
              "      <td>Gujarat</td>\n",
              "      <td>BHARUCH</td>\n",
              "      <td>1998</td>\n",
              "      <td>Kharif</td>\n",
              "      <td>Arhar/Tur</td>\n",
              "      <td>92800.0</td>\n",
              "      <td>58600</td>\n",
              "    </tr>\n",
              "    <tr>\n",
              "      <th>96509</th>\n",
              "      <td>Karnataka</td>\n",
              "      <td>TUMKUR</td>\n",
              "      <td>2011</td>\n",
              "      <td>Kharif</td>\n",
              "      <td>Other Kharif pulses</td>\n",
              "      <td>7385.0</td>\n",
              "      <td>6546</td>\n",
              "    </tr>\n",
              "    <tr>\n",
              "      <th>133692</th>\n",
              "      <td>Maharashtra</td>\n",
              "      <td>PARBHANI</td>\n",
              "      <td>2002</td>\n",
              "      <td>Kharif</td>\n",
              "      <td>Maize</td>\n",
              "      <td>1300.0</td>\n",
              "      <td>900</td>\n",
              "    </tr>\n",
              "    <tr>\n",
              "      <th>157237</th>\n",
              "      <td>Odisha</td>\n",
              "      <td>NAYAGARH</td>\n",
              "      <td>1999</td>\n",
              "      <td>Rabi</td>\n",
              "      <td>Rapeseed &amp;Mustard</td>\n",
              "      <td>3170.0</td>\n",
              "      <td>1340</td>\n",
              "    </tr>\n",
              "    <tr>\n",
              "      <th>159526</th>\n",
              "      <td>Odisha</td>\n",
              "      <td>SONEPUR</td>\n",
              "      <td>2000</td>\n",
              "      <td>Kharif</td>\n",
              "      <td>Sesamum</td>\n",
              "      <td>240.0</td>\n",
              "      <td>15.4</td>\n",
              "    </tr>\n",
              "    <tr>\n",
              "      <th>140618</th>\n",
              "      <td>Meghalaya</td>\n",
              "      <td>SOUTH GARO HILLS</td>\n",
              "      <td>1999</td>\n",
              "      <td>Whole Year</td>\n",
              "      <td>Sweet potato</td>\n",
              "      <td>117.0</td>\n",
              "      <td>387</td>\n",
              "    </tr>\n",
              "    <tr>\n",
              "      <th>54695</th>\n",
              "      <td>Chhattisgarh</td>\n",
              "      <td>RAIPUR</td>\n",
              "      <td>2001</td>\n",
              "      <td>Rabi</td>\n",
              "      <td>Other  Rabi pulses</td>\n",
              "      <td>302.0</td>\n",
              "      <td>103</td>\n",
              "    </tr>\n",
              "    <tr>\n",
              "      <th>129279</th>\n",
              "      <td>Maharashtra</td>\n",
              "      <td>GONDIA</td>\n",
              "      <td>2012</td>\n",
              "      <td>Summer</td>\n",
              "      <td>Maize</td>\n",
              "      <td>100.0</td>\n",
              "      <td>100</td>\n",
              "    </tr>\n",
              "  </tbody>\n",
              "</table>\n",
              "</div>\n",
              "      <button class=\"colab-df-convert\" onclick=\"convertToInteractive('df-d37b0890-dbb7-4782-8f7d-985ca0de622b')\"\n",
              "              title=\"Convert this dataframe to an interactive table.\"\n",
              "              style=\"display:none;\">\n",
              "        \n",
              "  <svg xmlns=\"http://www.w3.org/2000/svg\" height=\"24px\"viewBox=\"0 0 24 24\"\n",
              "       width=\"24px\">\n",
              "    <path d=\"M0 0h24v24H0V0z\" fill=\"none\"/>\n",
              "    <path d=\"M18.56 5.44l.94 2.06.94-2.06 2.06-.94-2.06-.94-.94-2.06-.94 2.06-2.06.94zm-11 1L8.5 8.5l.94-2.06 2.06-.94-2.06-.94L8.5 2.5l-.94 2.06-2.06.94zm10 10l.94 2.06.94-2.06 2.06-.94-2.06-.94-.94-2.06-.94 2.06-2.06.94z\"/><path d=\"M17.41 7.96l-1.37-1.37c-.4-.4-.92-.59-1.43-.59-.52 0-1.04.2-1.43.59L10.3 9.45l-7.72 7.72c-.78.78-.78 2.05 0 2.83L4 21.41c.39.39.9.59 1.41.59.51 0 1.02-.2 1.41-.59l7.78-7.78 2.81-2.81c.8-.78.8-2.07 0-2.86zM5.41 20L4 18.59l7.72-7.72 1.47 1.35L5.41 20z\"/>\n",
              "  </svg>\n",
              "      </button>\n",
              "      \n",
              "  <style>\n",
              "    .colab-df-container {\n",
              "      display:flex;\n",
              "      flex-wrap:wrap;\n",
              "      gap: 12px;\n",
              "    }\n",
              "\n",
              "    .colab-df-convert {\n",
              "      background-color: #E8F0FE;\n",
              "      border: none;\n",
              "      border-radius: 50%;\n",
              "      cursor: pointer;\n",
              "      display: none;\n",
              "      fill: #1967D2;\n",
              "      height: 32px;\n",
              "      padding: 0 0 0 0;\n",
              "      width: 32px;\n",
              "    }\n",
              "\n",
              "    .colab-df-convert:hover {\n",
              "      background-color: #E2EBFA;\n",
              "      box-shadow: 0px 1px 2px rgba(60, 64, 67, 0.3), 0px 1px 3px 1px rgba(60, 64, 67, 0.15);\n",
              "      fill: #174EA6;\n",
              "    }\n",
              "\n",
              "    [theme=dark] .colab-df-convert {\n",
              "      background-color: #3B4455;\n",
              "      fill: #D2E3FC;\n",
              "    }\n",
              "\n",
              "    [theme=dark] .colab-df-convert:hover {\n",
              "      background-color: #434B5C;\n",
              "      box-shadow: 0px 1px 3px 1px rgba(0, 0, 0, 0.15);\n",
              "      filter: drop-shadow(0px 1px 2px rgba(0, 0, 0, 0.3));\n",
              "      fill: #FFFFFF;\n",
              "    }\n",
              "  </style>\n",
              "\n",
              "      <script>\n",
              "        const buttonEl =\n",
              "          document.querySelector('#df-d37b0890-dbb7-4782-8f7d-985ca0de622b button.colab-df-convert');\n",
              "        buttonEl.style.display =\n",
              "          google.colab.kernel.accessAllowed ? 'block' : 'none';\n",
              "\n",
              "        async function convertToInteractive(key) {\n",
              "          const element = document.querySelector('#df-d37b0890-dbb7-4782-8f7d-985ca0de622b');\n",
              "          const dataTable =\n",
              "            await google.colab.kernel.invokeFunction('convertToInteractive',\n",
              "                                                     [key], {});\n",
              "          if (!dataTable) return;\n",
              "\n",
              "          const docLinkHtml = 'Like what you see? Visit the ' +\n",
              "            '<a target=\"_blank\" href=https://colab.research.google.com/notebooks/data_table.ipynb>data table notebook</a>'\n",
              "            + ' to learn more about interactive tables.';\n",
              "          element.innerHTML = '';\n",
              "          dataTable['output_type'] = 'display_data';\n",
              "          await google.colab.output.renderOutput(dataTable, element);\n",
              "          const docLink = document.createElement('div');\n",
              "          docLink.innerHTML = docLinkHtml;\n",
              "          element.appendChild(docLink);\n",
              "        }\n",
              "      </script>\n",
              "    </div>\n",
              "  </div>\n",
              "  "
            ]
          },
          "metadata": {},
          "execution_count": 7
        }
      ]
    },
    {
      "cell_type": "code",
      "source": [
        "# information of each columns\n",
        "df.info()"
      ],
      "metadata": {
        "colab": {
          "base_uri": "https://localhost:8080/"
        },
        "id": "-hPy_bQuxA5Q",
        "outputId": "575c808d-3707-41fb-efb1-3d728ad4e38b"
      },
      "execution_count": 8,
      "outputs": [
        {
          "output_type": "stream",
          "name": "stdout",
          "text": [
            "<class 'pandas.core.frame.DataFrame'>\n",
            "RangeIndex: 246091 entries, 0 to 246090\n",
            "Data columns (total 7 columns):\n",
            " #   Column         Non-Null Count   Dtype  \n",
            "---  ------         --------------   -----  \n",
            " 0   State_Name     246091 non-null  object \n",
            " 1   District_Name  246091 non-null  object \n",
            " 2   Crop_Year      246091 non-null  int64  \n",
            " 3   Season         246091 non-null  object \n",
            " 4   Crop           246091 non-null  object \n",
            " 5   Area           246091 non-null  float64\n",
            " 6   Production     246091 non-null  object \n",
            "dtypes: float64(1), int64(1), object(5)\n",
            "memory usage: 13.1+ MB\n"
          ]
        }
      ]
    },
    {
      "cell_type": "code",
      "source": [
        "# check if in columns any nan value\n",
        "df.isna().sum()"
      ],
      "metadata": {
        "colab": {
          "base_uri": "https://localhost:8080/"
        },
        "id": "voM75jk-xhHb",
        "outputId": "346ec8a9-d941-4a59-a113-bb87a5ad12ec"
      },
      "execution_count": 9,
      "outputs": [
        {
          "output_type": "execute_result",
          "data": {
            "text/plain": [
              "State_Name       0\n",
              "District_Name    0\n",
              "Crop_Year        0\n",
              "Season           0\n",
              "Crop             0\n",
              "Area             0\n",
              "Production       0\n",
              "dtype: int64"
            ]
          },
          "metadata": {},
          "execution_count": 9
        }
      ]
    },
    {
      "cell_type": "markdown",
      "source": [
        "## 2.2 Exploratory Data Analysis"
      ],
      "metadata": {
        "id": "5-CqMCPOohgG"
      }
    },
    {
      "cell_type": "code",
      "source": [
        "# remove '=' in Production field\n",
        "df.loc[(df['Production'] == '='), 'Production'] = np.NaN\n",
        "# drop nan value\n",
        "df.dropna(inplace = True)\n",
        "# change type column to float\n",
        "df['Production'] = df['Production'].astype('float')\n",
        "# show data\n",
        "df.sample(10)"
      ],
      "metadata": {
        "colab": {
          "base_uri": "https://localhost:8080/",
          "height": 363
        },
        "id": "RT6GLCSc81xs",
        "outputId": "557d9240-088e-4924-d527-a22479482bda"
      },
      "execution_count": 10,
      "outputs": [
        {
          "output_type": "execute_result",
          "data": {
            "text/plain": [
              "           State_Name   District_Name  Crop_Year       Season  \\\n",
              "34009           Bihar         KATIHAR       2005  Kharif        \n",
              "166574      Rajasthan       BHARATPUR       2003  Kharif        \n",
              "148010         Odisha       BALESHWAR       2004  Rabi          \n",
              "146782       Nagaland       ZUNHEBOTO       2013  Rabi          \n",
              "224065  Uttar Pradesh   MUZAFFARNAGAR       2002  Summer        \n",
              "228496  Uttar Pradesh       SHRAVASTI       2008  Kharif        \n",
              "55820    Chhattisgarh     RAJNANDGAON       2014  Rabi          \n",
              "189136     Tamil Nadu  TIRUVANNAMALAI       2010  Kharif        \n",
              "43944           Bihar       SITAMARHI       2004  Kharif        \n",
              "52739    Chhattisgarh           KOREA       2002  Rabi          \n",
              "\n",
              "                         Crop    Area  Production  \n",
              "34009              Horse-gram   437.0       389.0  \n",
              "166574           Cotton(lint)   860.0      1776.0  \n",
              "148010            Castor seed    86.0        40.0  \n",
              "146782         Rajmash Kholar   430.0       530.0  \n",
              "224065      Moong(Green Gram)   137.0        79.0  \n",
              "228496              Guar seed    25.0        21.0  \n",
              "55820   Peas & beans (Pulses)   360.0       116.0  \n",
              "189136             Horse-gram  2233.0      1270.0  \n",
              "43944                    Urad    36.0        25.0  \n",
              "52739                   Wheat  4017.0      2889.0  "
            ],
            "text/html": [
              "\n",
              "  <div id=\"df-e8329333-70c9-460e-b5fa-f10508f77270\">\n",
              "    <div class=\"colab-df-container\">\n",
              "      <div>\n",
              "<style scoped>\n",
              "    .dataframe tbody tr th:only-of-type {\n",
              "        vertical-align: middle;\n",
              "    }\n",
              "\n",
              "    .dataframe tbody tr th {\n",
              "        vertical-align: top;\n",
              "    }\n",
              "\n",
              "    .dataframe thead th {\n",
              "        text-align: right;\n",
              "    }\n",
              "</style>\n",
              "<table border=\"1\" class=\"dataframe\">\n",
              "  <thead>\n",
              "    <tr style=\"text-align: right;\">\n",
              "      <th></th>\n",
              "      <th>State_Name</th>\n",
              "      <th>District_Name</th>\n",
              "      <th>Crop_Year</th>\n",
              "      <th>Season</th>\n",
              "      <th>Crop</th>\n",
              "      <th>Area</th>\n",
              "      <th>Production</th>\n",
              "    </tr>\n",
              "  </thead>\n",
              "  <tbody>\n",
              "    <tr>\n",
              "      <th>34009</th>\n",
              "      <td>Bihar</td>\n",
              "      <td>KATIHAR</td>\n",
              "      <td>2005</td>\n",
              "      <td>Kharif</td>\n",
              "      <td>Horse-gram</td>\n",
              "      <td>437.0</td>\n",
              "      <td>389.0</td>\n",
              "    </tr>\n",
              "    <tr>\n",
              "      <th>166574</th>\n",
              "      <td>Rajasthan</td>\n",
              "      <td>BHARATPUR</td>\n",
              "      <td>2003</td>\n",
              "      <td>Kharif</td>\n",
              "      <td>Cotton(lint)</td>\n",
              "      <td>860.0</td>\n",
              "      <td>1776.0</td>\n",
              "    </tr>\n",
              "    <tr>\n",
              "      <th>148010</th>\n",
              "      <td>Odisha</td>\n",
              "      <td>BALESHWAR</td>\n",
              "      <td>2004</td>\n",
              "      <td>Rabi</td>\n",
              "      <td>Castor seed</td>\n",
              "      <td>86.0</td>\n",
              "      <td>40.0</td>\n",
              "    </tr>\n",
              "    <tr>\n",
              "      <th>146782</th>\n",
              "      <td>Nagaland</td>\n",
              "      <td>ZUNHEBOTO</td>\n",
              "      <td>2013</td>\n",
              "      <td>Rabi</td>\n",
              "      <td>Rajmash Kholar</td>\n",
              "      <td>430.0</td>\n",
              "      <td>530.0</td>\n",
              "    </tr>\n",
              "    <tr>\n",
              "      <th>224065</th>\n",
              "      <td>Uttar Pradesh</td>\n",
              "      <td>MUZAFFARNAGAR</td>\n",
              "      <td>2002</td>\n",
              "      <td>Summer</td>\n",
              "      <td>Moong(Green Gram)</td>\n",
              "      <td>137.0</td>\n",
              "      <td>79.0</td>\n",
              "    </tr>\n",
              "    <tr>\n",
              "      <th>228496</th>\n",
              "      <td>Uttar Pradesh</td>\n",
              "      <td>SHRAVASTI</td>\n",
              "      <td>2008</td>\n",
              "      <td>Kharif</td>\n",
              "      <td>Guar seed</td>\n",
              "      <td>25.0</td>\n",
              "      <td>21.0</td>\n",
              "    </tr>\n",
              "    <tr>\n",
              "      <th>55820</th>\n",
              "      <td>Chhattisgarh</td>\n",
              "      <td>RAJNANDGAON</td>\n",
              "      <td>2014</td>\n",
              "      <td>Rabi</td>\n",
              "      <td>Peas &amp; beans (Pulses)</td>\n",
              "      <td>360.0</td>\n",
              "      <td>116.0</td>\n",
              "    </tr>\n",
              "    <tr>\n",
              "      <th>189136</th>\n",
              "      <td>Tamil Nadu</td>\n",
              "      <td>TIRUVANNAMALAI</td>\n",
              "      <td>2010</td>\n",
              "      <td>Kharif</td>\n",
              "      <td>Horse-gram</td>\n",
              "      <td>2233.0</td>\n",
              "      <td>1270.0</td>\n",
              "    </tr>\n",
              "    <tr>\n",
              "      <th>43944</th>\n",
              "      <td>Bihar</td>\n",
              "      <td>SITAMARHI</td>\n",
              "      <td>2004</td>\n",
              "      <td>Kharif</td>\n",
              "      <td>Urad</td>\n",
              "      <td>36.0</td>\n",
              "      <td>25.0</td>\n",
              "    </tr>\n",
              "    <tr>\n",
              "      <th>52739</th>\n",
              "      <td>Chhattisgarh</td>\n",
              "      <td>KOREA</td>\n",
              "      <td>2002</td>\n",
              "      <td>Rabi</td>\n",
              "      <td>Wheat</td>\n",
              "      <td>4017.0</td>\n",
              "      <td>2889.0</td>\n",
              "    </tr>\n",
              "  </tbody>\n",
              "</table>\n",
              "</div>\n",
              "      <button class=\"colab-df-convert\" onclick=\"convertToInteractive('df-e8329333-70c9-460e-b5fa-f10508f77270')\"\n",
              "              title=\"Convert this dataframe to an interactive table.\"\n",
              "              style=\"display:none;\">\n",
              "        \n",
              "  <svg xmlns=\"http://www.w3.org/2000/svg\" height=\"24px\"viewBox=\"0 0 24 24\"\n",
              "       width=\"24px\">\n",
              "    <path d=\"M0 0h24v24H0V0z\" fill=\"none\"/>\n",
              "    <path d=\"M18.56 5.44l.94 2.06.94-2.06 2.06-.94-2.06-.94-.94-2.06-.94 2.06-2.06.94zm-11 1L8.5 8.5l.94-2.06 2.06-.94-2.06-.94L8.5 2.5l-.94 2.06-2.06.94zm10 10l.94 2.06.94-2.06 2.06-.94-2.06-.94-.94-2.06-.94 2.06-2.06.94z\"/><path d=\"M17.41 7.96l-1.37-1.37c-.4-.4-.92-.59-1.43-.59-.52 0-1.04.2-1.43.59L10.3 9.45l-7.72 7.72c-.78.78-.78 2.05 0 2.83L4 21.41c.39.39.9.59 1.41.59.51 0 1.02-.2 1.41-.59l7.78-7.78 2.81-2.81c.8-.78.8-2.07 0-2.86zM5.41 20L4 18.59l7.72-7.72 1.47 1.35L5.41 20z\"/>\n",
              "  </svg>\n",
              "      </button>\n",
              "      \n",
              "  <style>\n",
              "    .colab-df-container {\n",
              "      display:flex;\n",
              "      flex-wrap:wrap;\n",
              "      gap: 12px;\n",
              "    }\n",
              "\n",
              "    .colab-df-convert {\n",
              "      background-color: #E8F0FE;\n",
              "      border: none;\n",
              "      border-radius: 50%;\n",
              "      cursor: pointer;\n",
              "      display: none;\n",
              "      fill: #1967D2;\n",
              "      height: 32px;\n",
              "      padding: 0 0 0 0;\n",
              "      width: 32px;\n",
              "    }\n",
              "\n",
              "    .colab-df-convert:hover {\n",
              "      background-color: #E2EBFA;\n",
              "      box-shadow: 0px 1px 2px rgba(60, 64, 67, 0.3), 0px 1px 3px 1px rgba(60, 64, 67, 0.15);\n",
              "      fill: #174EA6;\n",
              "    }\n",
              "\n",
              "    [theme=dark] .colab-df-convert {\n",
              "      background-color: #3B4455;\n",
              "      fill: #D2E3FC;\n",
              "    }\n",
              "\n",
              "    [theme=dark] .colab-df-convert:hover {\n",
              "      background-color: #434B5C;\n",
              "      box-shadow: 0px 1px 3px 1px rgba(0, 0, 0, 0.15);\n",
              "      filter: drop-shadow(0px 1px 2px rgba(0, 0, 0, 0.3));\n",
              "      fill: #FFFFFF;\n",
              "    }\n",
              "  </style>\n",
              "\n",
              "      <script>\n",
              "        const buttonEl =\n",
              "          document.querySelector('#df-e8329333-70c9-460e-b5fa-f10508f77270 button.colab-df-convert');\n",
              "        buttonEl.style.display =\n",
              "          google.colab.kernel.accessAllowed ? 'block' : 'none';\n",
              "\n",
              "        async function convertToInteractive(key) {\n",
              "          const element = document.querySelector('#df-e8329333-70c9-460e-b5fa-f10508f77270');\n",
              "          const dataTable =\n",
              "            await google.colab.kernel.invokeFunction('convertToInteractive',\n",
              "                                                     [key], {});\n",
              "          if (!dataTable) return;\n",
              "\n",
              "          const docLinkHtml = 'Like what you see? Visit the ' +\n",
              "            '<a target=\"_blank\" href=https://colab.research.google.com/notebooks/data_table.ipynb>data table notebook</a>'\n",
              "            + ' to learn more about interactive tables.';\n",
              "          element.innerHTML = '';\n",
              "          dataTable['output_type'] = 'display_data';\n",
              "          await google.colab.output.renderOutput(dataTable, element);\n",
              "          const docLink = document.createElement('div');\n",
              "          docLink.innerHTML = docLinkHtml;\n",
              "          element.appendChild(docLink);\n",
              "        }\n",
              "      </script>\n",
              "    </div>\n",
              "  </div>\n",
              "  "
            ]
          },
          "metadata": {},
          "execution_count": 10
        }
      ]
    },
    {
      "cell_type": "code",
      "source": [
        "# show dataset in statistic\n",
        "df.describe()"
      ],
      "metadata": {
        "colab": {
          "base_uri": "https://localhost:8080/",
          "height": 300
        },
        "id": "EHfDO_GZomgf",
        "outputId": "7239a84c-084e-47b2-83da-8fa478560717"
      },
      "execution_count": 11,
      "outputs": [
        {
          "output_type": "execute_result",
          "data": {
            "text/plain": [
              "           Crop_Year          Area    Production\n",
              "count  242364.000000  2.423640e+05  2.423640e+05\n",
              "mean     2005.625770  1.216727e+04  5.824962e+05\n",
              "std         4.958254  5.085714e+04  1.706571e+07\n",
              "min      1997.000000  1.000000e-01  0.000000e+00\n",
              "25%      2002.000000  8.700000e+01  8.800000e+01\n",
              "50%      2006.000000  6.030000e+02  7.290000e+02\n",
              "75%      2010.000000  4.545000e+03  7.022250e+03\n",
              "max      2015.000000  8.580100e+06  1.250800e+09"
            ],
            "text/html": [
              "\n",
              "  <div id=\"df-4f561b67-bd2c-4820-ba7f-36f552f0ca49\">\n",
              "    <div class=\"colab-df-container\">\n",
              "      <div>\n",
              "<style scoped>\n",
              "    .dataframe tbody tr th:only-of-type {\n",
              "        vertical-align: middle;\n",
              "    }\n",
              "\n",
              "    .dataframe tbody tr th {\n",
              "        vertical-align: top;\n",
              "    }\n",
              "\n",
              "    .dataframe thead th {\n",
              "        text-align: right;\n",
              "    }\n",
              "</style>\n",
              "<table border=\"1\" class=\"dataframe\">\n",
              "  <thead>\n",
              "    <tr style=\"text-align: right;\">\n",
              "      <th></th>\n",
              "      <th>Crop_Year</th>\n",
              "      <th>Area</th>\n",
              "      <th>Production</th>\n",
              "    </tr>\n",
              "  </thead>\n",
              "  <tbody>\n",
              "    <tr>\n",
              "      <th>count</th>\n",
              "      <td>242364.000000</td>\n",
              "      <td>2.423640e+05</td>\n",
              "      <td>2.423640e+05</td>\n",
              "    </tr>\n",
              "    <tr>\n",
              "      <th>mean</th>\n",
              "      <td>2005.625770</td>\n",
              "      <td>1.216727e+04</td>\n",
              "      <td>5.824962e+05</td>\n",
              "    </tr>\n",
              "    <tr>\n",
              "      <th>std</th>\n",
              "      <td>4.958254</td>\n",
              "      <td>5.085714e+04</td>\n",
              "      <td>1.706571e+07</td>\n",
              "    </tr>\n",
              "    <tr>\n",
              "      <th>min</th>\n",
              "      <td>1997.000000</td>\n",
              "      <td>1.000000e-01</td>\n",
              "      <td>0.000000e+00</td>\n",
              "    </tr>\n",
              "    <tr>\n",
              "      <th>25%</th>\n",
              "      <td>2002.000000</td>\n",
              "      <td>8.700000e+01</td>\n",
              "      <td>8.800000e+01</td>\n",
              "    </tr>\n",
              "    <tr>\n",
              "      <th>50%</th>\n",
              "      <td>2006.000000</td>\n",
              "      <td>6.030000e+02</td>\n",
              "      <td>7.290000e+02</td>\n",
              "    </tr>\n",
              "    <tr>\n",
              "      <th>75%</th>\n",
              "      <td>2010.000000</td>\n",
              "      <td>4.545000e+03</td>\n",
              "      <td>7.022250e+03</td>\n",
              "    </tr>\n",
              "    <tr>\n",
              "      <th>max</th>\n",
              "      <td>2015.000000</td>\n",
              "      <td>8.580100e+06</td>\n",
              "      <td>1.250800e+09</td>\n",
              "    </tr>\n",
              "  </tbody>\n",
              "</table>\n",
              "</div>\n",
              "      <button class=\"colab-df-convert\" onclick=\"convertToInteractive('df-4f561b67-bd2c-4820-ba7f-36f552f0ca49')\"\n",
              "              title=\"Convert this dataframe to an interactive table.\"\n",
              "              style=\"display:none;\">\n",
              "        \n",
              "  <svg xmlns=\"http://www.w3.org/2000/svg\" height=\"24px\"viewBox=\"0 0 24 24\"\n",
              "       width=\"24px\">\n",
              "    <path d=\"M0 0h24v24H0V0z\" fill=\"none\"/>\n",
              "    <path d=\"M18.56 5.44l.94 2.06.94-2.06 2.06-.94-2.06-.94-.94-2.06-.94 2.06-2.06.94zm-11 1L8.5 8.5l.94-2.06 2.06-.94-2.06-.94L8.5 2.5l-.94 2.06-2.06.94zm10 10l.94 2.06.94-2.06 2.06-.94-2.06-.94-.94-2.06-.94 2.06-2.06.94z\"/><path d=\"M17.41 7.96l-1.37-1.37c-.4-.4-.92-.59-1.43-.59-.52 0-1.04.2-1.43.59L10.3 9.45l-7.72 7.72c-.78.78-.78 2.05 0 2.83L4 21.41c.39.39.9.59 1.41.59.51 0 1.02-.2 1.41-.59l7.78-7.78 2.81-2.81c.8-.78.8-2.07 0-2.86zM5.41 20L4 18.59l7.72-7.72 1.47 1.35L5.41 20z\"/>\n",
              "  </svg>\n",
              "      </button>\n",
              "      \n",
              "  <style>\n",
              "    .colab-df-container {\n",
              "      display:flex;\n",
              "      flex-wrap:wrap;\n",
              "      gap: 12px;\n",
              "    }\n",
              "\n",
              "    .colab-df-convert {\n",
              "      background-color: #E8F0FE;\n",
              "      border: none;\n",
              "      border-radius: 50%;\n",
              "      cursor: pointer;\n",
              "      display: none;\n",
              "      fill: #1967D2;\n",
              "      height: 32px;\n",
              "      padding: 0 0 0 0;\n",
              "      width: 32px;\n",
              "    }\n",
              "\n",
              "    .colab-df-convert:hover {\n",
              "      background-color: #E2EBFA;\n",
              "      box-shadow: 0px 1px 2px rgba(60, 64, 67, 0.3), 0px 1px 3px 1px rgba(60, 64, 67, 0.15);\n",
              "      fill: #174EA6;\n",
              "    }\n",
              "\n",
              "    [theme=dark] .colab-df-convert {\n",
              "      background-color: #3B4455;\n",
              "      fill: #D2E3FC;\n",
              "    }\n",
              "\n",
              "    [theme=dark] .colab-df-convert:hover {\n",
              "      background-color: #434B5C;\n",
              "      box-shadow: 0px 1px 3px 1px rgba(0, 0, 0, 0.15);\n",
              "      filter: drop-shadow(0px 1px 2px rgba(0, 0, 0, 0.3));\n",
              "      fill: #FFFFFF;\n",
              "    }\n",
              "  </style>\n",
              "\n",
              "      <script>\n",
              "        const buttonEl =\n",
              "          document.querySelector('#df-4f561b67-bd2c-4820-ba7f-36f552f0ca49 button.colab-df-convert');\n",
              "        buttonEl.style.display =\n",
              "          google.colab.kernel.accessAllowed ? 'block' : 'none';\n",
              "\n",
              "        async function convertToInteractive(key) {\n",
              "          const element = document.querySelector('#df-4f561b67-bd2c-4820-ba7f-36f552f0ca49');\n",
              "          const dataTable =\n",
              "            await google.colab.kernel.invokeFunction('convertToInteractive',\n",
              "                                                     [key], {});\n",
              "          if (!dataTable) return;\n",
              "\n",
              "          const docLinkHtml = 'Like what you see? Visit the ' +\n",
              "            '<a target=\"_blank\" href=https://colab.research.google.com/notebooks/data_table.ipynb>data table notebook</a>'\n",
              "            + ' to learn more about interactive tables.';\n",
              "          element.innerHTML = '';\n",
              "          dataTable['output_type'] = 'display_data';\n",
              "          await google.colab.output.renderOutput(dataTable, element);\n",
              "          const docLink = document.createElement('div');\n",
              "          docLink.innerHTML = docLinkHtml;\n",
              "          element.appendChild(docLink);\n",
              "        }\n",
              "      </script>\n",
              "    </div>\n",
              "  </div>\n",
              "  "
            ]
          },
          "metadata": {},
          "execution_count": 11
        }
      ]
    },
    {
      "cell_type": "markdown",
      "source": [
        "## 2.3 Hypothesis Testing"
      ],
      "metadata": {
        "id": "txJCr3keo8Tq"
      }
    },
    {
      "cell_type": "markdown",
      "source": [
        "\n",
        "*   H0 : area affects the amount of production\n",
        "*   H1 : area not affects the amount of production\n",
        "\n"
      ],
      "metadata": {
        "id": "4ZFaKlHspWU5"
      }
    },
    {
      "cell_type": "code",
      "source": [
        "# graph setting\n",
        "fig, axes = plt.subplots(ncols=2, nrows=1) # make graph in 2 rows 3 columns\n",
        "fig.tight_layout()\n",
        "plt.subplots_adjust(right=2, top=1) # size of subplot\n",
        "# var for test\n",
        "area = df['Area'].values\n",
        "production = df['Production'].values\n",
        "# visualization\n",
        "sns.distplot(area, ax=axes[0]).set(title='Area') # area\n",
        "sns.distplot(production, ax=axes[1]).set(title='Production') # production\n",
        "plt.show()"
      ],
      "metadata": {
        "colab": {
          "base_uri": "https://localhost:8080/",
          "height": 336
        },
        "id": "tykqdccBIByP",
        "outputId": "8a5f94c9-7da8-4980-ea70-d35715b990ff"
      },
      "execution_count": 18,
      "outputs": [
        {
          "output_type": "display_data",
          "data": {
            "text/plain": [
              "<Figure size 432x288 with 2 Axes>"
            ],
            "image/png": "[encoded data removed]"
          },
          "metadata": {
            "needs_background": "light"
          }
        }
      ]
    },
    {
      "cell_type": "code",
      "source": [
        "# make dict to save value\n",
        "z_score = {\n",
        "    'area': None,\n",
        "    'production': None\n",
        "}\n",
        "# ktest\n",
        "z_score['area'] = stats.kstest(stats.zscore(area), 'norm') # macet\n",
        "z_score['production'] = stats.kstest(stats.zscore(production), 'norm') # tidakmacet\n",
        "# show result\n",
        "z_score"
      ],
      "metadata": {
        "colab": {
          "base_uri": "https://localhost:8080/"
        },
        "id": "kYGyQXT7IhFr",
        "outputId": "8bfce299-b8a6-447b-fe2a-cf9904324161"
      },
      "execution_count": null,
      "outputs": [
        {
          "output_type": "execute_result",
          "data": {
            "text/plain": [
              "{'area': KstestResult(statistic=0.4054587561343234, pvalue=0.0),\n",
              " 'production': KstestResult(statistic=0.4863856955457543, pvalue=0.0)}"
            ]
          },
          "metadata": {},
          "execution_count": 20
        }
      ]
    },
    {
      "cell_type": "markdown",
      "source": [
        "The result of the area and production visualization and also p value above showing that the area and production are **not normal distribution**."
      ],
      "metadata": {
        "id": "AWfyrgssqgdr"
      }
    },
    {
      "cell_type": "code",
      "source": [
        "stats.kruskal(area, production)"
      ],
      "metadata": {
        "colab": {
          "base_uri": "https://localhost:8080/"
        },
        "id": "61I7bP1iJYak",
        "outputId": "b157a102-aaaf-478a-8611-3d6eac0dbc2c"
      },
      "execution_count": null,
      "outputs": [
        {
          "output_type": "execute_result",
          "data": {
            "text/plain": [
              "KruskalResult(statistic=511.9288741335278, pvalue=2.412950548002764e-113)"
            ]
          },
          "metadata": {},
          "execution_count": 21
        }
      ]
    },
    {
      "cell_type": "markdown",
      "source": [
        "Based on **Kruskal-Wallis** test, area has no affects to the amount of production thats mean **H1 is accepted**"
      ],
      "metadata": {
        "id": "4uFC0fPcrUlw"
      }
    },
    {
      "cell_type": "markdown",
      "source": [
        "# **3. Insight Analysis**"
      ],
      "metadata": {
        "id": "lkpXFYUxGV_w"
      }
    },
    {
      "cell_type": "markdown",
      "source": [
        "## 3.1 Find Highest Production in The State"
      ],
      "metadata": {
        "id": "_pENlY-ssepw"
      }
    },
    {
      "cell_type": "code",
      "source": [
        "# configure size graph\n",
        "plt.rcParams[\"figure.figsize\"] = (10,8)\n",
        "# group by state_name\n",
        "by_state_name = df.groupby(['State_Name']).sum()\n",
        "# visualization by highest\n",
        "by_state_name['Production'].sort_values(ascending=True).plot(kind='barh', title='Produksi Tertinggi Berdasarkan State Name', color=spring_pastels)\n",
        "plt.show()"
      ],
      "metadata": {
        "colab": {
          "base_uri": "https://localhost:8080/",
          "height": 512
        },
        "id": "kII2P8fp_i4L",
        "outputId": "94e84158-d6cb-46d0-ec38-a7cff67ec910"
      },
      "execution_count": null,
      "outputs": [
        {
          "output_type": "display_data",
          "data": {
            "text/plain": [
              "<Figure size 720x576 with 1 Axes>"
            ],
            "image/png": "[encoded data removed]"
          },
          "metadata": {
            "needs_background": "light"
          }
        }
      ]
    },
    {
      "cell_type": "markdown",
      "source": [
        "## 3.2 Find Widest Area in The State"
      ],
      "metadata": {
        "id": "j6YbrcTksvWL"
      }
    },
    {
      "cell_type": "code",
      "source": [
        "# visualization by widest area\n",
        "by_state_name['Area'].sort_values(ascending=True).plot(kind='barh', title='Area Terluas Berdasarkan State Name', color=spring_pastels)\n",
        "plt.show()"
      ],
      "metadata": {
        "colab": {
          "base_uri": "https://localhost:8080/",
          "height": 512
        },
        "id": "I8g3rt6gNefe",
        "outputId": "7df95ae5-8b0b-4870-c197-22d49a7c86f8"
      },
      "execution_count": null,
      "outputs": [
        {
          "output_type": "display_data",
          "data": {
            "text/plain": [
              "<Figure size 720x576 with 1 Axes>"
            ],
            "image/png": "[encoded data removed]"
          },
          "metadata": {
            "needs_background": "light"
          }
        }
      ]
    },
    {
      "cell_type": "markdown",
      "source": [
        "## 3.3 The Amount of Production Based on Year"
      ],
      "metadata": {
        "id": "mVEYE2zNtOyv"
      }
    },
    {
      "cell_type": "code",
      "source": [
        "# group by crop year and sum\n",
        "by_crop_year = df.groupby(['Crop_Year']).sum()\n",
        "# visualization\n",
        "by_crop_year['Production'].plot(title='Jumlah Produksi Berdasarkan Tahun',\n",
        "                                xlabel='Tahun',\n",
        "                                ylabel='Jumlah Produksi')\n",
        "plt.show()"
      ],
      "metadata": {
        "colab": {
          "base_uri": "https://localhost:8080/",
          "height": 294
        },
        "id": "nMMJezy4PeJq",
        "outputId": "94861cb0-d264-4ea7-b503-5c34a89cd1a1"
      },
      "execution_count": 19,
      "outputs": [
        {
          "output_type": "display_data",
          "data": {
            "text/plain": [
              "<Figure size 432x288 with 1 Axes>"
            ],
            "image/png": "[encoded data removed]"
          },
          "metadata": {
            "needs_background": "light"
          }
        }
      ]
    },
    {
      "cell_type": "markdown",
      "source": [
        "## 3.3 Find Crop Production"
      ],
      "metadata": {
        "id": "lxiX8xa7X9qi"
      }
    },
    {
      "cell_type": "code",
      "source": [
        "# configure size graph\n",
        "plt.rcParams[\"figure.figsize\"] = (8,6)\n",
        "# function to visualization\n",
        "def state_crop(state_name):\n",
        "  # select crop and production columns if state name kerala\n",
        "  by_state_crop = df[['Crop', 'Production']].loc[df['State_Name'] == state_name]\n",
        "  # make percentage based on production\n",
        "  by_state_crop['percent'] = ((by_state_crop['Production'] / by_state_crop['Production'].sum()) * 100)\n",
        "  # change value under 5 to other\n",
        "  by_state_crop.loc[by_state_crop['percent'] < 0.05, 'Crop'] = 'Other'\n",
        "  # group by crop\n",
        "  by_state_crop = by_state_crop.groupby('Crop').sum()\n",
        "  # visualization\n",
        "  by_state_crop['percent'].plot(kind='pie', \n",
        "                                  title='Jenis Tanaman dengan Produksi Tertinggi dari '+state_name,\n",
        "                                  autopct='%1.0f%%', \n",
        "                                  ylabel='', \n",
        "                                  pctdistance=1.1, \n",
        "                                  labeldistance=1.2, \n",
        "                                  colors=spring_pastels)\n",
        "  plt.show()"
      ],
      "metadata": {
        "id": "Z-lAlru4YBfK"
      },
      "execution_count": 20,
      "outputs": []
    },
    {
      "cell_type": "markdown",
      "source": [
        "### 3.3.1 Crop Production at Kerala"
      ],
      "metadata": {
        "id": "jlrcVzJ8pAHo"
      }
    },
    {
      "cell_type": "code",
      "source": [
        "state_crop('Kerala')"
      ],
      "metadata": {
        "colab": {
          "base_uri": "https://localhost:8080/",
          "height": 373
        },
        "id": "alkiwyc-pgWN",
        "outputId": "3a039d2b-2568-4f7d-d964-b21c2135c665"
      },
      "execution_count": 21,
      "outputs": [
        {
          "output_type": "display_data",
          "data": {
            "text/plain": [
              "<Figure size 576x432 with 1 Axes>"
            ],
            "image/png": "[encoded data removed]"
          },
          "metadata": {}
        }
      ]
    },
    {
      "cell_type": "markdown",
      "source": [
        "### 3.3.2 Crop Production at Andhra Pradesh"
      ],
      "metadata": {
        "id": "3PdbZIjopVcD"
      }
    },
    {
      "cell_type": "code",
      "source": [
        "state_crop('Andhra Pradesh')"
      ],
      "metadata": {
        "colab": {
          "base_uri": "https://localhost:8080/",
          "height": 373
        },
        "id": "j5A3qo8lprl8",
        "outputId": "76d6d652-8e50-4133-df12-53be84c84e31"
      },
      "execution_count": 23,
      "outputs": [
        {
          "output_type": "display_data",
          "data": {
            "text/plain": [
              "<Figure size 576x432 with 1 Axes>"
            ],
            "image/png": "[encoded data removed]"
          },
          "metadata": {}
        }
      ]
    },
    {
      "cell_type": "markdown",
      "source": [
        "### 3.3.3 Crop Production at Tamil Nadu"
      ],
      "metadata": {
        "id": "dPQH1PH_pa_q"
      }
    },
    {
      "cell_type": "code",
      "source": [
        "state_crop('Tamil Nadu')"
      ],
      "metadata": {
        "colab": {
          "base_uri": "https://localhost:8080/",
          "height": 373
        },
        "id": "kQYyLJGGp0c6",
        "outputId": "573066ac-03e6-49d5-d50c-1dab6fdeae2f"
      },
      "execution_count": 24,
      "outputs": [
        {
          "output_type": "display_data",
          "data": {
            "text/plain": [
              "<Figure size 576x432 with 1 Axes>"
            ],
            "image/png": "[encoded data removed]"
          },
          "metadata": {}
        }
      ]
    },
    {
      "cell_type": "markdown",
      "source": [
        "## 3.4 Find Highest Production in The District"
      ],
      "metadata": {
        "id": "iUN8FGpiF3rQ"
      }
    },
    {
      "cell_type": "code",
      "source": [
        "# configure size graph\n",
        "plt.rcParams[\"figure.figsize\"] = (10,8)\n",
        "# group by state_name\n",
        "by_district_name = df.groupby(['District_Name']).sum()\n",
        "# visualization by highest\n",
        "by_district_name['Production'].sort_values(ascending=True)[-10:].plot(kind='barh', \n",
        "                                                                      title='Produksi Tertinggi Berdasarkan Distrcit Name', \n",
        "                                                                      color=spring_pastels)\n",
        "plt.show()"
      ],
      "metadata": {
        "colab": {
          "base_uri": "https://localhost:8080/",
          "height": 512
        },
        "id": "6HON1gy4F7R7",
        "outputId": "4fdd5a29-5114-4bb8-df11-a00b692aaf8c"
      },
      "execution_count": 25,
      "outputs": [
        {
          "output_type": "display_data",
          "data": {
            "text/plain": [
              "<Figure size 720x576 with 1 Axes>"
            ],
            "image/png": "[encoded data removed]"
          },
          "metadata": {
            "needs_background": "light"
          }
        }
      ]
    },
    {
      "cell_type": "markdown",
      "source": [
        "## 3.5 Find Widest Area in The District"
      ],
      "metadata": {
        "id": "9fc6B36bG4j1"
      }
    },
    {
      "cell_type": "code",
      "source": [
        "# visualization by highest\n",
        "by_district_name['Area'].sort_values(ascending=True)[-10:].plot(kind='barh', \n",
        "                                                                      title='Area Terluas Berdasarkan Distrcit Name', \n",
        "                                                                      color=spring_pastels)\n",
        "plt.show()"
      ],
      "metadata": {
        "colab": {
          "base_uri": "https://localhost:8080/",
          "height": 512
        },
        "id": "dWxYzIcFjtqF",
        "outputId": "a0676d32-7e5b-4e4c-d43d-96f316b345bc"
      },
      "execution_count": null,
      "outputs": [
        {
          "output_type": "display_data",
          "data": {
            "text/plain": [
              "<Figure size 720x576 with 1 Axes>"
            ],
            "image/png": "[encoded data removed]"
          },
          "metadata": {
            "needs_background": "light"
          }
        }
      ]
    },
    {
      "cell_type": "markdown",
      "source": [
        "## 3.6 Find Highest Crop Production"
      ],
      "metadata": {
        "id": "7De2HjbwvLVb"
      }
    },
    {
      "cell_type": "code",
      "source": [
        "# configure size graph\n",
        "plt.rcParams[\"figure.figsize\"] = (10,8)\n",
        "# group by state_name\n",
        "by_crop = df.groupby(['Crop']).sum()\n",
        "# visualization by highest\n",
        "by_crop['Production'].sort_values(ascending=True)[-5:].plot(kind='barh',\n",
        "                                                            title='Produksi Tertinggi Berdasarkan Tanaman(Crop)', \n",
        "                                                            color=spring_pastels)\n",
        "plt.show()"
      ],
      "metadata": {
        "colab": {
          "base_uri": "https://localhost:8080/",
          "height": 512
        },
        "id": "pY1osrcxG9_E",
        "outputId": "449379be-7956-4032-e013-3463dcf8c399"
      },
      "execution_count": 26,
      "outputs": [
        {
          "output_type": "display_data",
          "data": {
            "text/plain": [
              "<Figure size 720x576 with 1 Axes>"
            ],
            "image/png": "[encoded data removed]"
          },
          "metadata": {
            "needs_background": "light"
          }
        }
      ]
    },
    {
      "cell_type": "markdown",
      "source": [
        "## 3.7 Find Highest Crop in Season"
      ],
      "metadata": {
        "id": "5HpD6LFY0gCk"
      }
    },
    {
      "cell_type": "code",
      "source": [
        "# select all season except whole year\n",
        "by_season = df.loc[df['Season'] != 'Whole Year ']\n",
        "# group by season and crop\n",
        "by_season = by_season.groupby(['Season', 'Crop'])['Production'].sum().unstack()\n",
        "# select column which have max value\n",
        "col_max = set(by_season.idxmax(axis=1))\n",
        "# visualization\n",
        "by_season[col_max].plot(kind='bar',\n",
        "                        title='Produksi Tanaman Teringgi Berdasar Musim',\n",
        "                        color=spring_pastels)\n",
        "plt.show()\n"
      ],
      "metadata": {
        "colab": {
          "base_uri": "https://localhost:8080/",
          "height": 561
        },
        "id": "bojIKvCww2qa",
        "outputId": "bec9d88f-d160-43e2-b340-6daa4e43f671"
      },
      "execution_count": 151,
      "outputs": [
        {
          "output_type": "display_data",
          "data": {
            "text/plain": [
              "<Figure size 720x576 with 1 Axes>"
            ],
            "image/png": "[encoded data removed]"
          },
          "metadata": {
            "needs_background": "light"
          }
        }
      ]
    },
    {
      "cell_type": "markdown",
      "source": [
        "# **4. Conclusion**"
      ],
      "metadata": {
        "id": "bBDk_CjK2Cta"
      }
    },
    {
      "cell_type": "markdown",
      "source": [
        "1.   **Area** is **not affected** to the amount of crop **production**\n",
        "2.   **Top 3 states** which have highest production are **Kerala, Andhra Pradesh, and Tamil Nadu** with **Coconut as the highest** crop production\n",
        "3.   **Top 3 districts** which have highest **production are Kozikode, Malapuram, and Thiruvananthapuram**\n",
        "4.   **From 1994 to 2015 production** of corps was **stable** and little bit increase but **in 2010** production **decreased**\n",
        "5.   **Top 3 crops** production are **Coconut, Sugarcane, and Rice**\n",
        "6.  **Every seasons**, there's always **Rice** where in the **Kharif season was the highest Rice production**.**Sugarcane** also have highest production in **Kharif seasons** and **wheat** in **Rabi seasons**\n",
        "7. Many **states and districts** have the **widest area** but not have the **highest crops production**\n",
        "\n"
      ],
      "metadata": {
        "id": "0km_dE2p2Jfq"
      }
    }
  ]
}