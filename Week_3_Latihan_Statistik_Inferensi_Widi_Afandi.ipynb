{
  "nbformat": 4,
  "nbformat_minor": 0,
  "metadata": {
    "colab": {
      "name": "Week 3_Latihan Statistik Inferensi_Widi Afandi.ipynb",
      "provenance": [],
      "include_colab_link": true
    },
    "kernelspec": {
      "name": "python3",
      "display_name": "Python 3"
    },
    "language_info": {
      "name": "python"
    }
  },
  "cells": [
    {
      "cell_type": "markdown",
      "metadata": {
        "id": "view-in-github",
        "colab_type": "text"
      },
      "source": [
        "<a href=\"https://colab.research.google.com/github/technisekai/orbit-future-academy-km/blob/main/Week_3_Latihan_Statistik_Inferensi_Widi_Afandi.ipynb\" target=\"_parent\"><img src=\"https://colab.research.google.com/assets/colab-badge.svg\" alt=\"Open In Colab\"/></a>"
      ]
    },
    {
      "cell_type": "markdown",
      "source": [
        "**Nama: Widi Afandi**\n",
        "\n",
        "**Institusi: Institut Teknologi Telkom Purwokerto**\n",
        "\n",
        "# Latihan \n",
        "\n",
        "Misalkan kamu adalah data scientist di gojek. Kamu ingin mengetahui apakah kemacetan mempengaruhi tingkat kepuasan pelanngan.\n",
        "\n",
        "Kamu diminta unutk membandingkna nilai \"bintang\" dari customer setalah dia order\n",
        "\n",
        "macet = [2, 3, 5, 4, 4, 2, 2, 2]\n",
        "tidak macet = [ 4 , 3, 5, 4 , 4, 5,5]\n",
        "\n",
        "Tugas\n",
        "1. Buat hipotesa\n",
        "2. Lakukan uji asumis normaltias\n",
        "3. Jika datanya normal, lakukan uji paramterik\n",
        "4. jika datanya tidak nrmal lakukan uji non parametrik\n",
        "5. kesimpulan?"
      ],
      "metadata": {
        "id": "WkiS69iXBTwV"
      }
    },
    {
      "cell_type": "markdown",
      "source": [
        "# **1. Hipotesa Awal**\n",
        "\n",
        "H0 : Semua data memiliki distribusi normal\n",
        "\n",
        "H1 : Ada beberapa/semua data tidak terdistribusi normal"
      ],
      "metadata": {
        "id": "KFonZjiWrdB0"
      }
    },
    {
      "cell_type": "code",
      "source": [
        "# import library\n",
        "import matplotlib.pyplot as plt\n",
        "import seaborn as sns\n",
        "import numpy as np\n",
        "from scipy import stats"
      ],
      "metadata": {
        "id": "5iVVGHxth6Zx"
      },
      "execution_count": 1,
      "outputs": []
    },
    {
      "cell_type": "code",
      "source": [
        "# load data\n",
        "macet = [2, 3, 5, 4, 4, 2, 2] \n",
        "tidak_macet = [4, 3, 5, 4, 4, 5, 5]"
      ],
      "metadata": {
        "id": "zUdwb8J2h_hN"
      },
      "execution_count": 56,
      "outputs": []
    },
    {
      "cell_type": "markdown",
      "source": [
        "# **2. Uji Asumsi Normaltias**\n",
        "\n",
        "Dari visualisasi histogram di bawah, dapat disimpulkan bahwa data terdistribusi normal"
      ],
      "metadata": {
        "id": "Iekhh16bsJgk"
      }
    },
    {
      "cell_type": "code",
      "source": [
        "# graph setting\n",
        "fig, axes = plt.subplots(ncols=2, nrows=1) # make graph in 2 rows 3 columns\n",
        "fig.tight_layout()\n",
        "plt.subplots_adjust(right=2, top=1) # size of subplot\n",
        "# visualization\n",
        "sns.distplot(macet, ax=axes[0]) # macet\n",
        "sns.distplot(tidak_macet, ax=axes[1]) # tidak macet"
      ],
      "metadata": {
        "colab": {
          "base_uri": "https://localhost:8080/",
          "height": 424
        },
        "id": "iCe4PiNSiJ-X",
        "outputId": "73d9b729-b6f3-4259-8910-8bcf322e41c9"
      },
      "execution_count": 57,
      "outputs": [
        {
          "output_type": "stream",
          "name": "stderr",
          "text": [
            "/usr/local/lib/python3.7/dist-packages/seaborn/distributions.py:2619: FutureWarning: `distplot` is a deprecated function and will be removed in a future version. Please adapt your code to use either `displot` (a figure-level function with similar flexibility) or `histplot` (an axes-level function for histograms).\n",
            "  warnings.warn(msg, FutureWarning)\n",
            "/usr/local/lib/python3.7/dist-packages/seaborn/distributions.py:2619: FutureWarning: `distplot` is a deprecated function and will be removed in a future version. Please adapt your code to use either `displot` (a figure-level function with similar flexibility) or `histplot` (an axes-level function for histograms).\n",
            "  warnings.warn(msg, FutureWarning)\n"
          ]
        },
        {
          "output_type": "execute_result",
          "data": {
            "text/plain": [
              "<matplotlib.axes._subplots.AxesSubplot at 0x7f921fe3ae10>"
            ]
          },
          "metadata": {},
          "execution_count": 57
        },
        {
          "output_type": "display_data",
          "data": {
            "image/png": "[encoded data removed]",
            "text/plain": [
              "<Figure size 432x288 with 2 Axes>"
            ]
          },
          "metadata": {
            "needs_background": "light"
          }
        }
      ]
    },
    {
      "cell_type": "code",
      "source": [
        "# make dict to save value\n",
        "z_score = {\n",
        "    'macet': None,\n",
        "    'tidak_macet': None\n",
        "}\n",
        "# ktest\n",
        "z_score['macet'] = stats.kstest(stats.zscore(macet), 'norm') # macet\n",
        "z_score['tidak_macet'] = stats.kstest(stats.zscore(tidak_macet), 'norm') # tidakmacet\n",
        "# show result\n",
        "z_score"
      ],
      "metadata": {
        "colab": {
          "base_uri": "https://localhost:8080/"
        },
        "id": "ctHD-m_CttWn",
        "outputId": "39c98286-b06e-490a-df6a-4f51872be5ee"
      },
      "execution_count": 58,
      "outputs": [
        {
          "output_type": "execute_result",
          "data": {
            "text/plain": [
              "{'macet': KstestResult(statistic=0.27375697720611203, pvalue=0.5896331705961108),\n",
              " 'tidak_macet': KstestResult(statistic=0.2748543456077309, pvalue=0.584195880026095)}"
            ]
          },
          "metadata": {},
          "execution_count": 58
        }
      ]
    },
    {
      "cell_type": "markdown",
      "source": [
        "# **3. Uji Paramterik untuk Data Normal**\n",
        "\n",
        "Dari hasil di bawah, p value lebih dari 0.05 maka tidak ada perbedaan yang signifikan dalam pemberian bintang antara macet dan tidak macet"
      ],
      "metadata": {
        "id": "yoHQyTxcs9NH"
      }
    },
    {
      "cell_type": "code",
      "source": [
        "# process to calculate t_value\n",
        "t_value = stats.ttest_rel(macet, tidak_macet)\n",
        "# show result\n",
        "print('Hasil uji t : ', t_value)"
      ],
      "metadata": {
        "colab": {
          "base_uri": "https://localhost:8080/"
        },
        "id": "darEnjM3rFA1",
        "outputId": "338bbc65-76ae-4854-ceab-0f1a2a534257"
      },
      "execution_count": 59,
      "outputs": [
        {
          "output_type": "stream",
          "name": "stdout",
          "text": [
            "Hasil uji t :  Ttest_relResult(statistic=2.065591117977289, pvalue=0.08440081603140841)\n"
          ]
        }
      ]
    },
    {
      "cell_type": "markdown",
      "source": [
        "# **5. Kesimpulan**\n",
        "\n",
        "Dari analisis yang dilakukan terhadap data pemberian rating pada driver dalam kondisi macet dan tidak macet dapat disimpulkan bahwa tidak terdapat perbedaan yang signifikan dalam pemberian rating baik dalam kondisi macet ataupun tidak yang berarti kondisi macet dan tidak macet tidak mempengaruhi pemberian rating oleh customer"
      ],
      "metadata": {
        "id": "C5mWKgdZ0HSO"
      }
    }
  ]
}